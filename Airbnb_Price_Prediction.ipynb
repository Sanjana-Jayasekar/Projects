{
 "cells": [
  {
   "cell_type": "markdown",
   "metadata": {},
   "source": [
    "https://www.kaggle.com/stevezhenghp/airbnb-price-prediction (Regression)"
   ]
  },
  {
   "cell_type": "code",
   "execution_count": 1,
   "metadata": {},
   "outputs": [],
   "source": [
    "import numpy as np\n",
    "import pandas as pd\n",
    "import matplotlib.pyplot as plt"
   ]
  },
  {
   "cell_type": "code",
   "execution_count": 2,
   "metadata": {},
   "outputs": [],
   "source": [
    "import warnings\n",
    "warnings.filterwarnings('ignore')"
   ]
  },
  {
   "cell_type": "code",
   "execution_count": 3,
   "metadata": {},
   "outputs": [],
   "source": [
    "price = pd.read_csv(\"C:/Users/sanja/Desktop/my files/airbnb.csv\")"
   ]
  },
  {
   "cell_type": "code",
   "execution_count": 4,
   "metadata": {},
   "outputs": [
    {
     "name": "stdout",
     "output_type": "stream",
     "text": [
      "<class 'pandas.core.frame.DataFrame'>\n",
      "RangeIndex: 74111 entries, 0 to 74110\n",
      "Data columns (total 29 columns):\n",
      "id                        74111 non-null int64\n",
      "log_price                 74111 non-null float64\n",
      "property_type             74111 non-null object\n",
      "room_type                 74111 non-null object\n",
      "amenities                 74111 non-null object\n",
      "accommodates              74111 non-null int64\n",
      "bathrooms                 73911 non-null float64\n",
      "bed_type                  74111 non-null object\n",
      "cancellation_policy       74111 non-null object\n",
      "cleaning_fee              74111 non-null bool\n",
      "city                      74111 non-null object\n",
      "description               74111 non-null object\n",
      "first_review              58247 non-null object\n",
      "host_has_profile_pic      73923 non-null object\n",
      "host_identity_verified    73923 non-null object\n",
      "host_response_rate        55812 non-null object\n",
      "host_since                73923 non-null object\n",
      "instant_bookable          74111 non-null object\n",
      "last_review               58284 non-null object\n",
      "latitude                  74111 non-null float64\n",
      "longitude                 74111 non-null float64\n",
      "name                      74111 non-null object\n",
      "neighbourhood             67239 non-null object\n",
      "number_of_reviews         74111 non-null int64\n",
      "review_scores_rating      57389 non-null float64\n",
      "thumbnail_url             65895 non-null object\n",
      "zipcode                   73145 non-null object\n",
      "bedrooms                  74020 non-null float64\n",
      "beds                      73980 non-null float64\n",
      "dtypes: bool(1), float64(7), int64(3), object(18)\n",
      "memory usage: 15.9+ MB\n"
     ]
    }
   ],
   "source": [
    "price.info()"
   ]
  },
  {
   "cell_type": "code",
   "execution_count": 5,
   "metadata": {},
   "outputs": [
    {
     "data": {
      "text/plain": [
       "Williamsburg                           2862\n",
       "Bedford-Stuyvesant                     2166\n",
       "Bushwick                               1601\n",
       "Upper West Side                        1396\n",
       "Mid-Wilshire                           1392\n",
       "Harlem                                 1374\n",
       "Hollywood                              1321\n",
       "Hell's Kitchen                         1299\n",
       "Venice                                 1222\n",
       "Upper East Side                        1206\n",
       "Crown Heights                          1076\n",
       "Astoria                                 898\n",
       "Lower East Side                         833\n",
       "East Village                            814\n",
       "East Harlem                             793\n",
       "Mission District                        784\n",
       "West Hollywood                          729\n",
       "Chelsea                                 726\n",
       "Greenpoint                              725\n",
       "Washington Heights                      722\n",
       "Hamilton Heights                        628\n",
       "Alphabet City                           619\n",
       "Clinton Hill                            618\n",
       "West Village                            606\n",
       "Park Slope                              601\n",
       "Long Beach                              573\n",
       "Santa Monica                            566\n",
       "Flatbush                                551\n",
       "Downtown                                547\n",
       "Capitol Hill                            526\n",
       "                                       ... \n",
       "Harvard Square                            1\n",
       "Edison Park                               1\n",
       "Artesia                                   1\n",
       "Clearing                                  1\n",
       "La Habra                                  1\n",
       "Graniteville                              1\n",
       "Gerritsen Beach                           1\n",
       "Wilmington                                1\n",
       "Country Club                              1\n",
       "Vernon                                    1\n",
       "Arboretum                                 1\n",
       "Montclare                                 1\n",
       "Irwindale                                 1\n",
       "Grant City                                1\n",
       "Oakwood                                   1\n",
       "Rolling Hills                             1\n",
       "Woodland                                  1\n",
       "Observatory Circle                        1\n",
       "Watertown                                 1\n",
       "Barry Farm                                1\n",
       "Suitland-Silver Hill, MD                  1\n",
       "Hilcrest Heights/Marlow Heights, MD       1\n",
       "Garfield Heights                          1\n",
       "Todt Hill                                 1\n",
       "Clifton                                   1\n",
       "Newton                                    1\n",
       "Arrochar                                  1\n",
       "Magnificent Mile                          1\n",
       "Chevy Chase, MD                           1\n",
       "Near Northeast                            1\n",
       "Name: neighbourhood, Length: 619, dtype: int64"
      ]
     },
     "execution_count": 5,
     "metadata": {},
     "output_type": "execute_result"
    }
   ],
   "source": [
    "price['neighbourhood'].value_counts()"
   ]
  },
  {
   "cell_type": "markdown",
   "metadata": {},
   "source": [
    "We are dropping the following attributes:\n",
    "1. Id = the column contains unique Id\n",
    "2. amenities : 90% of the apartments are having same amenities.\n",
    "3. description: This column contains content which needs some other programing techniques.\n",
    "4. First review, host since, last review = these are all dates which are almost unique\n",
    "5. host_has_profile_pic = 99% of the data holds the value as true.\n",
    "6. latitude, longitude, zipcode = It defines the city or the place where the apartment is and we have already considered city attribute for the same.\n",
    "7. Name = it holds unique apartments name.\n",
    "8. thumbnail_url = site url\n",
    "9. neighbourhood = It is an imporatant feature to be considered but there are unique values which was increasing the number of features and was making the models more complex. The other way was to group the neighbourhood area as per the location but we are not aware how to do it without using externel tools, hence we decided to drop the feature."
   ]
  },
  {
   "cell_type": "code",
   "execution_count": 6,
   "metadata": {},
   "outputs": [],
   "source": [
    "price.drop(['id', 'amenities', 'description', 'first_review', 'host_has_profile_pic', 'host_since', 'last_review', 'latitude', 'longitude', 'name', 'neighbourhood', 'thumbnail_url', 'zipcode'], axis=1,inplace= True)"
   ]
  },
  {
   "cell_type": "code",
   "execution_count": 7,
   "metadata": {},
   "outputs": [
    {
     "name": "stdout",
     "output_type": "stream",
     "text": [
      "<class 'pandas.core.frame.DataFrame'>\n",
      "RangeIndex: 74111 entries, 0 to 74110\n",
      "Data columns (total 16 columns):\n",
      "log_price                 74111 non-null float64\n",
      "property_type             74111 non-null object\n",
      "room_type                 74111 non-null object\n",
      "accommodates              74111 non-null int64\n",
      "bathrooms                 73911 non-null float64\n",
      "bed_type                  74111 non-null object\n",
      "cancellation_policy       74111 non-null object\n",
      "cleaning_fee              74111 non-null bool\n",
      "city                      74111 non-null object\n",
      "host_identity_verified    73923 non-null object\n",
      "host_response_rate        55812 non-null object\n",
      "instant_bookable          74111 non-null object\n",
      "number_of_reviews         74111 non-null int64\n",
      "review_scores_rating      57389 non-null float64\n",
      "bedrooms                  74020 non-null float64\n",
      "beds                      73980 non-null float64\n",
      "dtypes: bool(1), float64(5), int64(2), object(8)\n",
      "memory usage: 8.6+ MB\n"
     ]
    }
   ],
   "source": [
    "price.info()"
   ]
  },
  {
   "cell_type": "code",
   "execution_count": 8,
   "metadata": {},
   "outputs": [
    {
     "data": {
      "text/plain": [
       "log_price                     0\n",
       "property_type                 0\n",
       "room_type                     0\n",
       "accommodates                  0\n",
       "bathrooms                   200\n",
       "bed_type                      0\n",
       "cancellation_policy           0\n",
       "cleaning_fee                  0\n",
       "city                          0\n",
       "host_identity_verified      188\n",
       "host_response_rate        18299\n",
       "instant_bookable              0\n",
       "number_of_reviews             0\n",
       "review_scores_rating      16722\n",
       "bedrooms                     91\n",
       "beds                        131\n",
       "dtype: int64"
      ]
     },
     "execution_count": 8,
     "metadata": {},
     "output_type": "execute_result"
    }
   ],
   "source": [
    "price.isnull().sum()"
   ]
  },
  {
   "cell_type": "code",
   "execution_count": 9,
   "metadata": {},
   "outputs": [
    {
     "data": {
      "text/html": [
       "<div>\n",
       "<style scoped>\n",
       "    .dataframe tbody tr th:only-of-type {\n",
       "        vertical-align: middle;\n",
       "    }\n",
       "\n",
       "    .dataframe tbody tr th {\n",
       "        vertical-align: top;\n",
       "    }\n",
       "\n",
       "    .dataframe thead th {\n",
       "        text-align: right;\n",
       "    }\n",
       "</style>\n",
       "<table border=\"1\" class=\"dataframe\">\n",
       "  <thead>\n",
       "    <tr style=\"text-align: right;\">\n",
       "      <th></th>\n",
       "      <th>log_price</th>\n",
       "      <th>accommodates</th>\n",
       "      <th>bathrooms</th>\n",
       "      <th>number_of_reviews</th>\n",
       "      <th>review_scores_rating</th>\n",
       "      <th>bedrooms</th>\n",
       "      <th>beds</th>\n",
       "    </tr>\n",
       "  </thead>\n",
       "  <tbody>\n",
       "    <tr>\n",
       "      <th>count</th>\n",
       "      <td>74111.000000</td>\n",
       "      <td>74111.000000</td>\n",
       "      <td>73911.000000</td>\n",
       "      <td>74111.000000</td>\n",
       "      <td>57389.000000</td>\n",
       "      <td>74020.000000</td>\n",
       "      <td>73980.000000</td>\n",
       "    </tr>\n",
       "    <tr>\n",
       "      <th>mean</th>\n",
       "      <td>4.782069</td>\n",
       "      <td>3.155146</td>\n",
       "      <td>1.235263</td>\n",
       "      <td>20.900568</td>\n",
       "      <td>94.067365</td>\n",
       "      <td>1.265793</td>\n",
       "      <td>1.710868</td>\n",
       "    </tr>\n",
       "    <tr>\n",
       "      <th>std</th>\n",
       "      <td>0.717394</td>\n",
       "      <td>2.153589</td>\n",
       "      <td>0.582044</td>\n",
       "      <td>37.828641</td>\n",
       "      <td>7.836556</td>\n",
       "      <td>0.852143</td>\n",
       "      <td>1.254142</td>\n",
       "    </tr>\n",
       "    <tr>\n",
       "      <th>min</th>\n",
       "      <td>0.000000</td>\n",
       "      <td>1.000000</td>\n",
       "      <td>0.000000</td>\n",
       "      <td>0.000000</td>\n",
       "      <td>20.000000</td>\n",
       "      <td>0.000000</td>\n",
       "      <td>0.000000</td>\n",
       "    </tr>\n",
       "    <tr>\n",
       "      <th>25%</th>\n",
       "      <td>4.317488</td>\n",
       "      <td>2.000000</td>\n",
       "      <td>1.000000</td>\n",
       "      <td>1.000000</td>\n",
       "      <td>92.000000</td>\n",
       "      <td>1.000000</td>\n",
       "      <td>1.000000</td>\n",
       "    </tr>\n",
       "    <tr>\n",
       "      <th>50%</th>\n",
       "      <td>4.709530</td>\n",
       "      <td>2.000000</td>\n",
       "      <td>1.000000</td>\n",
       "      <td>6.000000</td>\n",
       "      <td>96.000000</td>\n",
       "      <td>1.000000</td>\n",
       "      <td>1.000000</td>\n",
       "    </tr>\n",
       "    <tr>\n",
       "      <th>75%</th>\n",
       "      <td>5.220356</td>\n",
       "      <td>4.000000</td>\n",
       "      <td>1.000000</td>\n",
       "      <td>23.000000</td>\n",
       "      <td>100.000000</td>\n",
       "      <td>1.000000</td>\n",
       "      <td>2.000000</td>\n",
       "    </tr>\n",
       "    <tr>\n",
       "      <th>max</th>\n",
       "      <td>7.600402</td>\n",
       "      <td>16.000000</td>\n",
       "      <td>8.000000</td>\n",
       "      <td>605.000000</td>\n",
       "      <td>100.000000</td>\n",
       "      <td>10.000000</td>\n",
       "      <td>18.000000</td>\n",
       "    </tr>\n",
       "  </tbody>\n",
       "</table>\n",
       "</div>"
      ],
      "text/plain": [
       "          log_price  accommodates     bathrooms  number_of_reviews  \\\n",
       "count  74111.000000  74111.000000  73911.000000       74111.000000   \n",
       "mean       4.782069      3.155146      1.235263          20.900568   \n",
       "std        0.717394      2.153589      0.582044          37.828641   \n",
       "min        0.000000      1.000000      0.000000           0.000000   \n",
       "25%        4.317488      2.000000      1.000000           1.000000   \n",
       "50%        4.709530      2.000000      1.000000           6.000000   \n",
       "75%        5.220356      4.000000      1.000000          23.000000   \n",
       "max        7.600402     16.000000      8.000000         605.000000   \n",
       "\n",
       "       review_scores_rating      bedrooms          beds  \n",
       "count          57389.000000  74020.000000  73980.000000  \n",
       "mean              94.067365      1.265793      1.710868  \n",
       "std                7.836556      0.852143      1.254142  \n",
       "min               20.000000      0.000000      0.000000  \n",
       "25%               92.000000      1.000000      1.000000  \n",
       "50%               96.000000      1.000000      1.000000  \n",
       "75%              100.000000      1.000000      2.000000  \n",
       "max              100.000000     10.000000     18.000000  "
      ]
     },
     "execution_count": 9,
     "metadata": {},
     "output_type": "execute_result"
    }
   ],
   "source": [
    "price.describe()"
   ]
  },
  {
   "cell_type": "code",
   "execution_count": 10,
   "metadata": {},
   "outputs": [
    {
     "data": {
      "text/plain": [
       "<matplotlib.axes._subplots.AxesSubplot at 0x27fe711ab70>"
      ]
     },
     "execution_count": 10,
     "metadata": {},
     "output_type": "execute_result"
    },
    {
     "data": {
      "image/png": "[encoded data removed]",
      "text/plain": [
       "<Figure size 432x288 with 1 Axes>"
      ]
     },
     "metadata": {
      "needs_background": "light"
     },
     "output_type": "display_data"
    }
   ],
   "source": [
    "price['bathrooms'].value_counts().plot(kind='bar')"
   ]
  },
  {
   "cell_type": "code",
   "execution_count": 11,
   "metadata": {},
   "outputs": [],
   "source": [
    "price['bathrooms'].fillna(1, inplace = True) "
   ]
  },
  {
   "cell_type": "markdown",
   "metadata": {},
   "source": [
    "As the mode of the column is 1  and only 0.27% of the data is missing."
   ]
  },
  {
   "cell_type": "code",
   "execution_count": 12,
   "metadata": {},
   "outputs": [
    {
     "data": {
      "text/plain": [
       "<matplotlib.axes._subplots.AxesSubplot at 0x27fe89375c0>"
      ]
     },
     "execution_count": 12,
     "metadata": {},
     "output_type": "execute_result"
    },
    {
     "data": {
      "image/png": "[encoded data removed]",
      "text/plain": [
       "<Figure size 432x288 with 1 Axes>"
      ]
     },
     "metadata": {
      "needs_background": "light"
     },
     "output_type": "display_data"
    }
   ],
   "source": [
    "price['host_identity_verified'].value_counts().plot(kind='bar')"
   ]
  },
  {
   "cell_type": "code",
   "execution_count": 13,
   "metadata": {},
   "outputs": [],
   "source": [
    "price['host_identity_verified'].fillna('t', inplace = True) "
   ]
  },
  {
   "cell_type": "markdown",
   "metadata": {},
   "source": [
    "As the mode of the column is true  and only 0.25% of the data is missing."
   ]
  },
  {
   "cell_type": "code",
   "execution_count": 14,
   "metadata": {
    "scrolled": true
   },
   "outputs": [
    {
     "data": {
      "text/html": [
       "<div>\n",
       "<style scoped>\n",
       "    .dataframe tbody tr th:only-of-type {\n",
       "        vertical-align: middle;\n",
       "    }\n",
       "\n",
       "    .dataframe tbody tr th {\n",
       "        vertical-align: top;\n",
       "    }\n",
       "\n",
       "    .dataframe thead th {\n",
       "        text-align: right;\n",
       "    }\n",
       "</style>\n",
       "<table border=\"1\" class=\"dataframe\">\n",
       "  <thead>\n",
       "    <tr style=\"text-align: right;\">\n",
       "      <th></th>\n",
       "      <th>review_scores_rating</th>\n",
       "      <th>number_of_reviews</th>\n",
       "    </tr>\n",
       "  </thead>\n",
       "  <tbody>\n",
       "    <tr>\n",
       "      <th>3</th>\n",
       "      <td>null</td>\n",
       "      <td>0.0</td>\n",
       "    </tr>\n",
       "    <tr>\n",
       "      <th>12</th>\n",
       "      <td>null</td>\n",
       "      <td>0.0</td>\n",
       "    </tr>\n",
       "    <tr>\n",
       "      <th>15</th>\n",
       "      <td>null</td>\n",
       "      <td>0.0</td>\n",
       "    </tr>\n",
       "    <tr>\n",
       "      <th>24</th>\n",
       "      <td>null</td>\n",
       "      <td>0.0</td>\n",
       "    </tr>\n",
       "    <tr>\n",
       "      <th>31</th>\n",
       "      <td>null</td>\n",
       "      <td>0.0</td>\n",
       "    </tr>\n",
       "    <tr>\n",
       "      <th>34</th>\n",
       "      <td>null</td>\n",
       "      <td>1.0</td>\n",
       "    </tr>\n",
       "    <tr>\n",
       "      <th>40</th>\n",
       "      <td>null</td>\n",
       "      <td>0.0</td>\n",
       "    </tr>\n",
       "    <tr>\n",
       "      <th>41</th>\n",
       "      <td>null</td>\n",
       "      <td>0.0</td>\n",
       "    </tr>\n",
       "    <tr>\n",
       "      <th>45</th>\n",
       "      <td>null</td>\n",
       "      <td>0.0</td>\n",
       "    </tr>\n",
       "    <tr>\n",
       "      <th>46</th>\n",
       "      <td>null</td>\n",
       "      <td>1.0</td>\n",
       "    </tr>\n",
       "    <tr>\n",
       "      <th>47</th>\n",
       "      <td>null</td>\n",
       "      <td>0.0</td>\n",
       "    </tr>\n",
       "    <tr>\n",
       "      <th>48</th>\n",
       "      <td>null</td>\n",
       "      <td>1.0</td>\n",
       "    </tr>\n",
       "    <tr>\n",
       "      <th>51</th>\n",
       "      <td>null</td>\n",
       "      <td>0.0</td>\n",
       "    </tr>\n",
       "    <tr>\n",
       "      <th>53</th>\n",
       "      <td>null</td>\n",
       "      <td>0.0</td>\n",
       "    </tr>\n",
       "    <tr>\n",
       "      <th>61</th>\n",
       "      <td>null</td>\n",
       "      <td>0.0</td>\n",
       "    </tr>\n",
       "    <tr>\n",
       "      <th>62</th>\n",
       "      <td>null</td>\n",
       "      <td>0.0</td>\n",
       "    </tr>\n",
       "    <tr>\n",
       "      <th>63</th>\n",
       "      <td>null</td>\n",
       "      <td>0.0</td>\n",
       "    </tr>\n",
       "    <tr>\n",
       "      <th>64</th>\n",
       "      <td>null</td>\n",
       "      <td>0.0</td>\n",
       "    </tr>\n",
       "    <tr>\n",
       "      <th>66</th>\n",
       "      <td>null</td>\n",
       "      <td>0.0</td>\n",
       "    </tr>\n",
       "    <tr>\n",
       "      <th>71</th>\n",
       "      <td>null</td>\n",
       "      <td>0.0</td>\n",
       "    </tr>\n",
       "    <tr>\n",
       "      <th>72</th>\n",
       "      <td>null</td>\n",
       "      <td>0.0</td>\n",
       "    </tr>\n",
       "    <tr>\n",
       "      <th>74</th>\n",
       "      <td>null</td>\n",
       "      <td>0.0</td>\n",
       "    </tr>\n",
       "    <tr>\n",
       "      <th>78</th>\n",
       "      <td>null</td>\n",
       "      <td>0.0</td>\n",
       "    </tr>\n",
       "    <tr>\n",
       "      <th>79</th>\n",
       "      <td>null</td>\n",
       "      <td>0.0</td>\n",
       "    </tr>\n",
       "    <tr>\n",
       "      <th>86</th>\n",
       "      <td>null</td>\n",
       "      <td>0.0</td>\n",
       "    </tr>\n",
       "    <tr>\n",
       "      <th>92</th>\n",
       "      <td>null</td>\n",
       "      <td>0.0</td>\n",
       "    </tr>\n",
       "    <tr>\n",
       "      <th>93</th>\n",
       "      <td>null</td>\n",
       "      <td>0.0</td>\n",
       "    </tr>\n",
       "    <tr>\n",
       "      <th>94</th>\n",
       "      <td>null</td>\n",
       "      <td>0.0</td>\n",
       "    </tr>\n",
       "    <tr>\n",
       "      <th>95</th>\n",
       "      <td>null</td>\n",
       "      <td>0.0</td>\n",
       "    </tr>\n",
       "    <tr>\n",
       "      <th>106</th>\n",
       "      <td>null</td>\n",
       "      <td>0.0</td>\n",
       "    </tr>\n",
       "    <tr>\n",
       "      <th>...</th>\n",
       "      <td>...</td>\n",
       "      <td>...</td>\n",
       "    </tr>\n",
       "    <tr>\n",
       "      <th>73942</th>\n",
       "      <td>null</td>\n",
       "      <td>0.0</td>\n",
       "    </tr>\n",
       "    <tr>\n",
       "      <th>73945</th>\n",
       "      <td>null</td>\n",
       "      <td>0.0</td>\n",
       "    </tr>\n",
       "    <tr>\n",
       "      <th>73946</th>\n",
       "      <td>null</td>\n",
       "      <td>0.0</td>\n",
       "    </tr>\n",
       "    <tr>\n",
       "      <th>73947</th>\n",
       "      <td>null</td>\n",
       "      <td>0.0</td>\n",
       "    </tr>\n",
       "    <tr>\n",
       "      <th>73950</th>\n",
       "      <td>null</td>\n",
       "      <td>0.0</td>\n",
       "    </tr>\n",
       "    <tr>\n",
       "      <th>73959</th>\n",
       "      <td>null</td>\n",
       "      <td>0.0</td>\n",
       "    </tr>\n",
       "    <tr>\n",
       "      <th>73962</th>\n",
       "      <td>null</td>\n",
       "      <td>0.0</td>\n",
       "    </tr>\n",
       "    <tr>\n",
       "      <th>73989</th>\n",
       "      <td>null</td>\n",
       "      <td>0.0</td>\n",
       "    </tr>\n",
       "    <tr>\n",
       "      <th>74003</th>\n",
       "      <td>null</td>\n",
       "      <td>0.0</td>\n",
       "    </tr>\n",
       "    <tr>\n",
       "      <th>74011</th>\n",
       "      <td>null</td>\n",
       "      <td>0.0</td>\n",
       "    </tr>\n",
       "    <tr>\n",
       "      <th>74013</th>\n",
       "      <td>null</td>\n",
       "      <td>0.0</td>\n",
       "    </tr>\n",
       "    <tr>\n",
       "      <th>74014</th>\n",
       "      <td>null</td>\n",
       "      <td>0.0</td>\n",
       "    </tr>\n",
       "    <tr>\n",
       "      <th>74025</th>\n",
       "      <td>null</td>\n",
       "      <td>0.0</td>\n",
       "    </tr>\n",
       "    <tr>\n",
       "      <th>74027</th>\n",
       "      <td>null</td>\n",
       "      <td>0.0</td>\n",
       "    </tr>\n",
       "    <tr>\n",
       "      <th>74030</th>\n",
       "      <td>null</td>\n",
       "      <td>0.0</td>\n",
       "    </tr>\n",
       "    <tr>\n",
       "      <th>74043</th>\n",
       "      <td>null</td>\n",
       "      <td>0.0</td>\n",
       "    </tr>\n",
       "    <tr>\n",
       "      <th>74047</th>\n",
       "      <td>null</td>\n",
       "      <td>0.0</td>\n",
       "    </tr>\n",
       "    <tr>\n",
       "      <th>74050</th>\n",
       "      <td>null</td>\n",
       "      <td>0.0</td>\n",
       "    </tr>\n",
       "    <tr>\n",
       "      <th>74054</th>\n",
       "      <td>null</td>\n",
       "      <td>0.0</td>\n",
       "    </tr>\n",
       "    <tr>\n",
       "      <th>74058</th>\n",
       "      <td>null</td>\n",
       "      <td>0.0</td>\n",
       "    </tr>\n",
       "    <tr>\n",
       "      <th>74061</th>\n",
       "      <td>null</td>\n",
       "      <td>0.0</td>\n",
       "    </tr>\n",
       "    <tr>\n",
       "      <th>74069</th>\n",
       "      <td>null</td>\n",
       "      <td>0.0</td>\n",
       "    </tr>\n",
       "    <tr>\n",
       "      <th>74071</th>\n",
       "      <td>null</td>\n",
       "      <td>0.0</td>\n",
       "    </tr>\n",
       "    <tr>\n",
       "      <th>74080</th>\n",
       "      <td>null</td>\n",
       "      <td>0.0</td>\n",
       "    </tr>\n",
       "    <tr>\n",
       "      <th>74081</th>\n",
       "      <td>null</td>\n",
       "      <td>0.0</td>\n",
       "    </tr>\n",
       "    <tr>\n",
       "      <th>74083</th>\n",
       "      <td>null</td>\n",
       "      <td>0.0</td>\n",
       "    </tr>\n",
       "    <tr>\n",
       "      <th>74089</th>\n",
       "      <td>null</td>\n",
       "      <td>0.0</td>\n",
       "    </tr>\n",
       "    <tr>\n",
       "      <th>74095</th>\n",
       "      <td>null</td>\n",
       "      <td>0.0</td>\n",
       "    </tr>\n",
       "    <tr>\n",
       "      <th>74106</th>\n",
       "      <td>null</td>\n",
       "      <td>0.0</td>\n",
       "    </tr>\n",
       "    <tr>\n",
       "      <th>74109</th>\n",
       "      <td>null</td>\n",
       "      <td>0.0</td>\n",
       "    </tr>\n",
       "  </tbody>\n",
       "</table>\n",
       "<p>16722 rows × 2 columns</p>\n",
       "</div>"
      ],
      "text/plain": [
       "      review_scores_rating  number_of_reviews\n",
       "3                     null                0.0\n",
       "12                    null                0.0\n",
       "15                    null                0.0\n",
       "24                    null                0.0\n",
       "31                    null                0.0\n",
       "34                    null                1.0\n",
       "40                    null                0.0\n",
       "41                    null                0.0\n",
       "45                    null                0.0\n",
       "46                    null                1.0\n",
       "47                    null                0.0\n",
       "48                    null                1.0\n",
       "51                    null                0.0\n",
       "53                    null                0.0\n",
       "61                    null                0.0\n",
       "62                    null                0.0\n",
       "63                    null                0.0\n",
       "64                    null                0.0\n",
       "66                    null                0.0\n",
       "71                    null                0.0\n",
       "72                    null                0.0\n",
       "74                    null                0.0\n",
       "78                    null                0.0\n",
       "79                    null                0.0\n",
       "86                    null                0.0\n",
       "92                    null                0.0\n",
       "93                    null                0.0\n",
       "94                    null                0.0\n",
       "95                    null                0.0\n",
       "106                   null                0.0\n",
       "...                    ...                ...\n",
       "73942                 null                0.0\n",
       "73945                 null                0.0\n",
       "73946                 null                0.0\n",
       "73947                 null                0.0\n",
       "73950                 null                0.0\n",
       "73959                 null                0.0\n",
       "73962                 null                0.0\n",
       "73989                 null                0.0\n",
       "74003                 null                0.0\n",
       "74011                 null                0.0\n",
       "74013                 null                0.0\n",
       "74014                 null                0.0\n",
       "74025                 null                0.0\n",
       "74027                 null                0.0\n",
       "74030                 null                0.0\n",
       "74043                 null                0.0\n",
       "74047                 null                0.0\n",
       "74050                 null                0.0\n",
       "74054                 null                0.0\n",
       "74058                 null                0.0\n",
       "74061                 null                0.0\n",
       "74069                 null                0.0\n",
       "74071                 null                0.0\n",
       "74080                 null                0.0\n",
       "74081                 null                0.0\n",
       "74083                 null                0.0\n",
       "74089                 null                0.0\n",
       "74095                 null                0.0\n",
       "74106                 null                0.0\n",
       "74109                 null                0.0\n",
       "\n",
       "[16722 rows x 2 columns]"
      ]
     },
     "execution_count": 14,
     "metadata": {},
     "output_type": "execute_result"
    }
   ],
   "source": [
    "review = price[['review_scores_rating', 'number_of_reviews']].fillna('null')\n",
    "rating = review[['review_scores_rating', 'number_of_reviews']].where(review['review_scores_rating'] == 'null')\n",
    "review_rating = rating.loc[rating['review_scores_rating'] == 'null']\n",
    "review_rating"
   ]
  },
  {
   "cell_type": "code",
   "execution_count": 15,
   "metadata": {},
   "outputs": [
    {
     "data": {
      "text/plain": [
       "0.0      15819\n",
       "1.0        746\n",
       "2.0         86\n",
       "3.0         26\n",
       "4.0         10\n",
       "5.0          5\n",
       "8.0          4\n",
       "15.0         3\n",
       "28.0         2\n",
       "23.0         2\n",
       "33.0         1\n",
       "25.0         1\n",
       "18.0         1\n",
       "21.0         1\n",
       "6.0          1\n",
       "7.0          1\n",
       "10.0         1\n",
       "32.0         1\n",
       "13.0         1\n",
       "43.0         1\n",
       "47.0         1\n",
       "101.0        1\n",
       "36.0         1\n",
       "17.0         1\n",
       "9.0          1\n",
       "37.0         1\n",
       "19.0         1\n",
       "63.0         1\n",
       "131.0        1\n",
       "Name: number_of_reviews, dtype: int64"
      ]
     },
     "execution_count": 15,
     "metadata": {},
     "output_type": "execute_result"
    }
   ],
   "source": [
    "review_rating['number_of_reviews'].value_counts()"
   ]
  },
  {
   "cell_type": "code",
   "execution_count": 16,
   "metadata": {},
   "outputs": [],
   "source": [
    "price['review_scores_rating'].fillna(0, inplace = True)\n",
    "#for the null values the no. of reviews are 0 or 1 which implies that the scores will be 0"
   ]
  },
  {
   "cell_type": "code",
   "execution_count": 17,
   "metadata": {},
   "outputs": [
    {
     "data": {
      "text/plain": [
       "<matplotlib.axes._subplots.AxesSubplot at 0x27fe8836358>"
      ]
     },
     "execution_count": 17,
     "metadata": {},
     "output_type": "execute_result"
    },
    {
     "data": {
      "image/png": "[encoded data removed]",
      "text/plain": [
       "<Figure size 432x288 with 1 Axes>"
      ]
     },
     "metadata": {
      "needs_background": "light"
     },
     "output_type": "display_data"
    }
   ],
   "source": [
    "price['bedrooms'].value_counts().plot(kind='bar')"
   ]
  },
  {
   "cell_type": "code",
   "execution_count": 18,
   "metadata": {},
   "outputs": [],
   "source": [
    "price['bedrooms'].fillna(1, inplace = True) # as the mode of the column is 1  and only 0.12% of the data is missing"
   ]
  },
  {
   "cell_type": "code",
   "execution_count": 19,
   "metadata": {
    "scrolled": false
   },
   "outputs": [
    {
     "data": {
      "text/plain": [
       "<matplotlib.axes._subplots.AxesSubplot at 0x27fdc022588>"
      ]
     },
     "execution_count": 19,
     "metadata": {},
     "output_type": "execute_result"
    },
    {
     "data": {
      "image/png": "[encoded data removed]",
      "text/plain": [
       "<Figure size 432x288 with 1 Axes>"
      ]
     },
     "metadata": {
      "needs_background": "light"
     },
     "output_type": "display_data"
    }
   ],
   "source": [
    "price['beds'].value_counts().plot(kind='bar')"
   ]
  },
  {
   "cell_type": "code",
   "execution_count": 20,
   "metadata": {},
   "outputs": [],
   "source": [
    "price['beds'].fillna(1, inplace = True) # as the mode of the column is 1  and only 0.18% of the data is missing"
   ]
  },
  {
   "cell_type": "code",
   "execution_count": 21,
   "metadata": {},
   "outputs": [
    {
     "data": {
      "text/plain": [
       "<matplotlib.axes._subplots.AxesSubplot at 0x27fe6e16908>"
      ]
     },
     "execution_count": 21,
     "metadata": {},
     "output_type": "execute_result"
    },
    {
     "data": {
      "image/png": "[encoded data removed]",
      "text/plain": [
       "<Figure size 432x288 with 1 Axes>"
      ]
     },
     "metadata": {
      "needs_background": "light"
     },
     "output_type": "display_data"
    }
   ],
   "source": [
    "price['host_response_rate'].value_counts().plot(kind='bar')"
   ]
  },
  {
   "cell_type": "code",
   "execution_count": 22,
   "metadata": {},
   "outputs": [],
   "source": [
    "price['host_response_rate'] = price['host_response_rate'].str.strip('%')"
   ]
  },
  {
   "cell_type": "code",
   "execution_count": 23,
   "metadata": {},
   "outputs": [],
   "source": [
    "price['host_response_rate'].fillna(100, inplace = True)\n",
    " # as the mode of the column is 100 and more than 60% of the data holds the value 100"
   ]
  },
  {
   "cell_type": "code",
   "execution_count": 24,
   "metadata": {},
   "outputs": [],
   "source": [
    "price['host_response_rate'] = price['host_response_rate'].astype(int)"
   ]
  },
  {
   "cell_type": "code",
   "execution_count": 25,
   "metadata": {},
   "outputs": [],
   "source": [
    "price['host_response_rate'] = price['host_response_rate'].divide(100)"
   ]
  },
  {
   "cell_type": "code",
   "execution_count": 26,
   "metadata": {},
   "outputs": [
    {
     "data": {
      "text/plain": [
       "0        1.00\n",
       "1        1.00\n",
       "2        1.00\n",
       "3        1.00\n",
       "4        1.00\n",
       "5        1.00\n",
       "6        1.00\n",
       "7        1.00\n",
       "8        1.00\n",
       "9        1.00\n",
       "10       1.00\n",
       "11       1.00\n",
       "12       1.00\n",
       "13       1.00\n",
       "14       1.00\n",
       "15       1.00\n",
       "16       1.00\n",
       "17       1.00\n",
       "18       0.71\n",
       "19       1.00\n",
       "20       1.00\n",
       "21       1.00\n",
       "22       1.00\n",
       "23       1.00\n",
       "24       1.00\n",
       "25       1.00\n",
       "26       1.00\n",
       "27       1.00\n",
       "28       1.00\n",
       "29       0.68\n",
       "         ... \n",
       "74081    1.00\n",
       "74082    1.00\n",
       "74083    1.00\n",
       "74084    1.00\n",
       "74085    1.00\n",
       "74086    1.00\n",
       "74087    1.00\n",
       "74088    0.90\n",
       "74089    0.00\n",
       "74090    1.00\n",
       "74091    0.70\n",
       "74092    0.90\n",
       "74093    1.00\n",
       "74094    1.00\n",
       "74095    1.00\n",
       "74096    1.00\n",
       "74097    1.00\n",
       "74098    1.00\n",
       "74099    1.00\n",
       "74100    1.00\n",
       "74101    1.00\n",
       "74102    1.00\n",
       "74103    1.00\n",
       "74104    1.00\n",
       "74105    0.75\n",
       "74106    1.00\n",
       "74107    1.00\n",
       "74108    1.00\n",
       "74109    1.00\n",
       "74110    1.00\n",
       "Name: host_response_rate, Length: 74111, dtype: float64"
      ]
     },
     "execution_count": 26,
     "metadata": {},
     "output_type": "execute_result"
    }
   ],
   "source": [
    "price['host_response_rate']"
   ]
  },
  {
   "cell_type": "code",
   "execution_count": 27,
   "metadata": {},
   "outputs": [
    {
     "data": {
      "text/html": [
       "<div>\n",
       "<style scoped>\n",
       "    .dataframe tbody tr th:only-of-type {\n",
       "        vertical-align: middle;\n",
       "    }\n",
       "\n",
       "    .dataframe tbody tr th {\n",
       "        vertical-align: top;\n",
       "    }\n",
       "\n",
       "    .dataframe thead th {\n",
       "        text-align: right;\n",
       "    }\n",
       "</style>\n",
       "<table border=\"1\" class=\"dataframe\">\n",
       "  <thead>\n",
       "    <tr style=\"text-align: right;\">\n",
       "      <th></th>\n",
       "      <th>log_price</th>\n",
       "      <th>property_type</th>\n",
       "      <th>room_type</th>\n",
       "      <th>accommodates</th>\n",
       "      <th>bathrooms</th>\n",
       "      <th>bed_type</th>\n",
       "      <th>cancellation_policy</th>\n",
       "      <th>cleaning_fee</th>\n",
       "      <th>city</th>\n",
       "      <th>host_identity_verified</th>\n",
       "      <th>host_response_rate</th>\n",
       "      <th>instant_bookable</th>\n",
       "      <th>number_of_reviews</th>\n",
       "      <th>review_scores_rating</th>\n",
       "      <th>bedrooms</th>\n",
       "      <th>beds</th>\n",
       "    </tr>\n",
       "  </thead>\n",
       "  <tbody>\n",
       "    <tr>\n",
       "      <th>0</th>\n",
       "      <td>5.010635</td>\n",
       "      <td>Apartment</td>\n",
       "      <td>Entire home/apt</td>\n",
       "      <td>3</td>\n",
       "      <td>1.0</td>\n",
       "      <td>Real Bed</td>\n",
       "      <td>strict</td>\n",
       "      <td>True</td>\n",
       "      <td>NYC</td>\n",
       "      <td>t</td>\n",
       "      <td>1.0</td>\n",
       "      <td>f</td>\n",
       "      <td>2</td>\n",
       "      <td>100.0</td>\n",
       "      <td>1.0</td>\n",
       "      <td>1.0</td>\n",
       "    </tr>\n",
       "    <tr>\n",
       "      <th>1</th>\n",
       "      <td>5.129899</td>\n",
       "      <td>Apartment</td>\n",
       "      <td>Entire home/apt</td>\n",
       "      <td>7</td>\n",
       "      <td>1.0</td>\n",
       "      <td>Real Bed</td>\n",
       "      <td>strict</td>\n",
       "      <td>True</td>\n",
       "      <td>NYC</td>\n",
       "      <td>f</td>\n",
       "      <td>1.0</td>\n",
       "      <td>t</td>\n",
       "      <td>6</td>\n",
       "      <td>93.0</td>\n",
       "      <td>3.0</td>\n",
       "      <td>3.0</td>\n",
       "    </tr>\n",
       "    <tr>\n",
       "      <th>2</th>\n",
       "      <td>4.976734</td>\n",
       "      <td>Apartment</td>\n",
       "      <td>Entire home/apt</td>\n",
       "      <td>5</td>\n",
       "      <td>1.0</td>\n",
       "      <td>Real Bed</td>\n",
       "      <td>moderate</td>\n",
       "      <td>True</td>\n",
       "      <td>NYC</td>\n",
       "      <td>t</td>\n",
       "      <td>1.0</td>\n",
       "      <td>t</td>\n",
       "      <td>10</td>\n",
       "      <td>92.0</td>\n",
       "      <td>1.0</td>\n",
       "      <td>3.0</td>\n",
       "    </tr>\n",
       "    <tr>\n",
       "      <th>3</th>\n",
       "      <td>6.620073</td>\n",
       "      <td>House</td>\n",
       "      <td>Entire home/apt</td>\n",
       "      <td>4</td>\n",
       "      <td>1.0</td>\n",
       "      <td>Real Bed</td>\n",
       "      <td>flexible</td>\n",
       "      <td>True</td>\n",
       "      <td>SF</td>\n",
       "      <td>t</td>\n",
       "      <td>1.0</td>\n",
       "      <td>f</td>\n",
       "      <td>0</td>\n",
       "      <td>0.0</td>\n",
       "      <td>2.0</td>\n",
       "      <td>2.0</td>\n",
       "    </tr>\n",
       "    <tr>\n",
       "      <th>4</th>\n",
       "      <td>4.744932</td>\n",
       "      <td>Apartment</td>\n",
       "      <td>Entire home/apt</td>\n",
       "      <td>2</td>\n",
       "      <td>1.0</td>\n",
       "      <td>Real Bed</td>\n",
       "      <td>moderate</td>\n",
       "      <td>True</td>\n",
       "      <td>DC</td>\n",
       "      <td>t</td>\n",
       "      <td>1.0</td>\n",
       "      <td>t</td>\n",
       "      <td>4</td>\n",
       "      <td>40.0</td>\n",
       "      <td>0.0</td>\n",
       "      <td>1.0</td>\n",
       "    </tr>\n",
       "  </tbody>\n",
       "</table>\n",
       "</div>"
      ],
      "text/plain": [
       "   log_price property_type        room_type  accommodates  bathrooms  \\\n",
       "0   5.010635     Apartment  Entire home/apt             3        1.0   \n",
       "1   5.129899     Apartment  Entire home/apt             7        1.0   \n",
       "2   4.976734     Apartment  Entire home/apt             5        1.0   \n",
       "3   6.620073         House  Entire home/apt             4        1.0   \n",
       "4   4.744932     Apartment  Entire home/apt             2        1.0   \n",
       "\n",
       "   bed_type cancellation_policy  cleaning_fee city host_identity_verified  \\\n",
       "0  Real Bed              strict          True  NYC                      t   \n",
       "1  Real Bed              strict          True  NYC                      f   \n",
       "2  Real Bed            moderate          True  NYC                      t   \n",
       "3  Real Bed            flexible          True   SF                      t   \n",
       "4  Real Bed            moderate          True   DC                      t   \n",
       "\n",
       "   host_response_rate instant_bookable  number_of_reviews  \\\n",
       "0                 1.0                f                  2   \n",
       "1                 1.0                t                  6   \n",
       "2                 1.0                t                 10   \n",
       "3                 1.0                f                  0   \n",
       "4                 1.0                t                  4   \n",
       "\n",
       "   review_scores_rating  bedrooms  beds  \n",
       "0                 100.0       1.0   1.0  \n",
       "1                  93.0       3.0   3.0  \n",
       "2                  92.0       1.0   3.0  \n",
       "3                   0.0       2.0   2.0  \n",
       "4                  40.0       0.0   1.0  "
      ]
     },
     "execution_count": 27,
     "metadata": {},
     "output_type": "execute_result"
    }
   ],
   "source": [
    "price.head()"
   ]
  },
  {
   "cell_type": "code",
   "execution_count": 28,
   "metadata": {},
   "outputs": [],
   "source": [
    "room=pd.get_dummies(price['room_type'],columns='room_type',prefix='room_type')\n",
    "bed=pd.get_dummies(price['bed_type'],columns='bed_type',prefix='bed_type')\n",
    "city=pd.get_dummies(price['city'],columns='city',prefix='city')\n",
    "price['cleaning_fee'] = price['cleaning_fee'].astype(int)\n",
    "policy=pd.get_dummies(price['cancellation_policy'],columns='cancellation_policy',prefix='cancellation_policy')\n",
    "price[['host_identity_verified']]= price['host_identity_verified'].map({'f':0, 't':1})\n",
    "price[['instant_bookable']]= price['instant_bookable'].map({'f':0, 't':1})"
   ]
  },
  {
   "cell_type": "code",
   "execution_count": 29,
   "metadata": {},
   "outputs": [
    {
     "data": {
      "text/html": [
       "<div>\n",
       "<style scoped>\n",
       "    .dataframe tbody tr th:only-of-type {\n",
       "        vertical-align: middle;\n",
       "    }\n",
       "\n",
       "    .dataframe tbody tr th {\n",
       "        vertical-align: top;\n",
       "    }\n",
       "\n",
       "    .dataframe thead th {\n",
       "        text-align: right;\n",
       "    }\n",
       "</style>\n",
       "<table border=\"1\" class=\"dataframe\">\n",
       "  <thead>\n",
       "    <tr style=\"text-align: right;\">\n",
       "      <th></th>\n",
       "      <th>log_price</th>\n",
       "      <th>property_type</th>\n",
       "      <th>room_type</th>\n",
       "      <th>accommodates</th>\n",
       "      <th>bathrooms</th>\n",
       "      <th>bed_type</th>\n",
       "      <th>cancellation_policy</th>\n",
       "      <th>cleaning_fee</th>\n",
       "      <th>city</th>\n",
       "      <th>host_identity_verified</th>\n",
       "      <th>host_response_rate</th>\n",
       "      <th>instant_bookable</th>\n",
       "      <th>number_of_reviews</th>\n",
       "      <th>review_scores_rating</th>\n",
       "      <th>bedrooms</th>\n",
       "      <th>beds</th>\n",
       "    </tr>\n",
       "  </thead>\n",
       "  <tbody>\n",
       "    <tr>\n",
       "      <th>0</th>\n",
       "      <td>5.010635</td>\n",
       "      <td>Apartment</td>\n",
       "      <td>Entire home/apt</td>\n",
       "      <td>3</td>\n",
       "      <td>1.0</td>\n",
       "      <td>Real Bed</td>\n",
       "      <td>strict</td>\n",
       "      <td>1</td>\n",
       "      <td>NYC</td>\n",
       "      <td>1</td>\n",
       "      <td>1.0</td>\n",
       "      <td>0</td>\n",
       "      <td>2</td>\n",
       "      <td>100.0</td>\n",
       "      <td>1.0</td>\n",
       "      <td>1.0</td>\n",
       "    </tr>\n",
       "    <tr>\n",
       "      <th>1</th>\n",
       "      <td>5.129899</td>\n",
       "      <td>Apartment</td>\n",
       "      <td>Entire home/apt</td>\n",
       "      <td>7</td>\n",
       "      <td>1.0</td>\n",
       "      <td>Real Bed</td>\n",
       "      <td>strict</td>\n",
       "      <td>1</td>\n",
       "      <td>NYC</td>\n",
       "      <td>0</td>\n",
       "      <td>1.0</td>\n",
       "      <td>1</td>\n",
       "      <td>6</td>\n",
       "      <td>93.0</td>\n",
       "      <td>3.0</td>\n",
       "      <td>3.0</td>\n",
       "    </tr>\n",
       "    <tr>\n",
       "      <th>2</th>\n",
       "      <td>4.976734</td>\n",
       "      <td>Apartment</td>\n",
       "      <td>Entire home/apt</td>\n",
       "      <td>5</td>\n",
       "      <td>1.0</td>\n",
       "      <td>Real Bed</td>\n",
       "      <td>moderate</td>\n",
       "      <td>1</td>\n",
       "      <td>NYC</td>\n",
       "      <td>1</td>\n",
       "      <td>1.0</td>\n",
       "      <td>1</td>\n",
       "      <td>10</td>\n",
       "      <td>92.0</td>\n",
       "      <td>1.0</td>\n",
       "      <td>3.0</td>\n",
       "    </tr>\n",
       "    <tr>\n",
       "      <th>3</th>\n",
       "      <td>6.620073</td>\n",
       "      <td>House</td>\n",
       "      <td>Entire home/apt</td>\n",
       "      <td>4</td>\n",
       "      <td>1.0</td>\n",
       "      <td>Real Bed</td>\n",
       "      <td>flexible</td>\n",
       "      <td>1</td>\n",
       "      <td>SF</td>\n",
       "      <td>1</td>\n",
       "      <td>1.0</td>\n",
       "      <td>0</td>\n",
       "      <td>0</td>\n",
       "      <td>0.0</td>\n",
       "      <td>2.0</td>\n",
       "      <td>2.0</td>\n",
       "    </tr>\n",
       "    <tr>\n",
       "      <th>4</th>\n",
       "      <td>4.744932</td>\n",
       "      <td>Apartment</td>\n",
       "      <td>Entire home/apt</td>\n",
       "      <td>2</td>\n",
       "      <td>1.0</td>\n",
       "      <td>Real Bed</td>\n",
       "      <td>moderate</td>\n",
       "      <td>1</td>\n",
       "      <td>DC</td>\n",
       "      <td>1</td>\n",
       "      <td>1.0</td>\n",
       "      <td>1</td>\n",
       "      <td>4</td>\n",
       "      <td>40.0</td>\n",
       "      <td>0.0</td>\n",
       "      <td>1.0</td>\n",
       "    </tr>\n",
       "  </tbody>\n",
       "</table>\n",
       "</div>"
      ],
      "text/plain": [
       "   log_price property_type        room_type  accommodates  bathrooms  \\\n",
       "0   5.010635     Apartment  Entire home/apt             3        1.0   \n",
       "1   5.129899     Apartment  Entire home/apt             7        1.0   \n",
       "2   4.976734     Apartment  Entire home/apt             5        1.0   \n",
       "3   6.620073         House  Entire home/apt             4        1.0   \n",
       "4   4.744932     Apartment  Entire home/apt             2        1.0   \n",
       "\n",
       "   bed_type cancellation_policy  cleaning_fee city  host_identity_verified  \\\n",
       "0  Real Bed              strict             1  NYC                       1   \n",
       "1  Real Bed              strict             1  NYC                       0   \n",
       "2  Real Bed            moderate             1  NYC                       1   \n",
       "3  Real Bed            flexible             1   SF                       1   \n",
       "4  Real Bed            moderate             1   DC                       1   \n",
       "\n",
       "   host_response_rate  instant_bookable  number_of_reviews  \\\n",
       "0                 1.0                 0                  2   \n",
       "1                 1.0                 1                  6   \n",
       "2                 1.0                 1                 10   \n",
       "3                 1.0                 0                  0   \n",
       "4                 1.0                 1                  4   \n",
       "\n",
       "   review_scores_rating  bedrooms  beds  \n",
       "0                 100.0       1.0   1.0  \n",
       "1                  93.0       3.0   3.0  \n",
       "2                  92.0       1.0   3.0  \n",
       "3                   0.0       2.0   2.0  \n",
       "4                  40.0       0.0   1.0  "
      ]
     },
     "execution_count": 29,
     "metadata": {},
     "output_type": "execute_result"
    }
   ],
   "source": [
    "price.head()"
   ]
  },
  {
   "cell_type": "code",
   "execution_count": 30,
   "metadata": {},
   "outputs": [],
   "source": [
    "price=pd.concat([price, room, bed, city, policy], axis=1)\n",
    "price.drop(['room_type', 'bed_type', 'cancellation_policy', 'city'],axis=1,inplace= True)"
   ]
  },
  {
   "cell_type": "code",
   "execution_count": 31,
   "metadata": {},
   "outputs": [
    {
     "data": {
      "text/plain": [
       "Apartment             49003\n",
       "House                 16511\n",
       "Condominium            2658\n",
       "Townhouse              1692\n",
       "Loft                   1244\n",
       "Other                   607\n",
       "Guesthouse              498\n",
       "Bed & Breakfast         462\n",
       "Bungalow                366\n",
       "Villa                   179\n",
       "Dorm                    142\n",
       "Guest suite             123\n",
       "Camper/RV                94\n",
       "Timeshare                77\n",
       "Cabin                    72\n",
       "In-law                   71\n",
       "Hostel                   70\n",
       "Boutique hotel           69\n",
       "Boat                     65\n",
       "Serviced apartment       21\n",
       "Tent                     18\n",
       "Castle                   13\n",
       "Vacation home            11\n",
       "Yurt                      9\n",
       "Hut                       8\n",
       "Treehouse                 7\n",
       "Chalet                    6\n",
       "Earth House               4\n",
       "Tipi                      3\n",
       "Cave                      2\n",
       "Train                     2\n",
       "Lighthouse                1\n",
       "Casa particular           1\n",
       "Parking Space             1\n",
       "Island                    1\n",
       "Name: property_type, dtype: int64"
      ]
     },
     "execution_count": 31,
     "metadata": {},
     "output_type": "execute_result"
    }
   ],
   "source": [
    "price['property_type'].value_counts()"
   ]
  },
  {
   "cell_type": "markdown",
   "metadata": {},
   "source": [
    "Grouped the property type of less values into others as the number of unique values are high."
   ]
  },
  {
   "cell_type": "code",
   "execution_count": 32,
   "metadata": {},
   "outputs": [],
   "source": [
    "\n",
    "\n",
    "price['property_type'] = price['property_type'].replace(['Villa', 'Dorm', 'Guest suite', 'Camper/RV','Timeshare', 'Boutique hotel','Hostel',\n",
    "       'In-law', 'Boat', 'Serviced apartment', 'Castle', 'Cabin',\n",
    "       'Treehouse', 'Tipi', 'Vacation home', 'Tent', 'Hut',\n",
    "       'Casa particular', 'Chalet', 'Yurt', 'Earth House',\n",
    "       'Parking Space', 'Train', 'Cave', 'Lighthouse', 'Island'], 'Other')"
   ]
  },
  {
   "cell_type": "code",
   "execution_count": 33,
   "metadata": {
    "scrolled": true
   },
   "outputs": [
    {
     "data": {
      "text/plain": [
       "Apartment          49003\n",
       "House              16511\n",
       "Condominium         2658\n",
       "Townhouse           1692\n",
       "Other               1677\n",
       "Loft                1244\n",
       "Guesthouse           498\n",
       "Bed & Breakfast      462\n",
       "Bungalow             366\n",
       "Name: property_type, dtype: int64"
      ]
     },
     "execution_count": 33,
     "metadata": {},
     "output_type": "execute_result"
    }
   ],
   "source": [
    "price['property_type'].value_counts()"
   ]
  },
  {
   "cell_type": "code",
   "execution_count": 34,
   "metadata": {},
   "outputs": [],
   "source": [
    "prop=pd.get_dummies(price['property_type'],columns='property_type',prefix='property_type')"
   ]
  },
  {
   "cell_type": "code",
   "execution_count": 35,
   "metadata": {},
   "outputs": [],
   "source": [
    "price=pd.concat([price, prop], axis=1)"
   ]
  },
  {
   "cell_type": "code",
   "execution_count": 36,
   "metadata": {},
   "outputs": [],
   "source": [
    "price.drop(['property_type'],axis=1,inplace= True)"
   ]
  },
  {
   "cell_type": "code",
   "execution_count": 37,
   "metadata": {
    "scrolled": true
   },
   "outputs": [
    {
     "data": {
      "text/html": [
       "<div>\n",
       "<style scoped>\n",
       "    .dataframe tbody tr th:only-of-type {\n",
       "        vertical-align: middle;\n",
       "    }\n",
       "\n",
       "    .dataframe tbody tr th {\n",
       "        vertical-align: top;\n",
       "    }\n",
       "\n",
       "    .dataframe thead th {\n",
       "        text-align: right;\n",
       "    }\n",
       "</style>\n",
       "<table border=\"1\" class=\"dataframe\">\n",
       "  <thead>\n",
       "    <tr style=\"text-align: right;\">\n",
       "      <th></th>\n",
       "      <th>log_price</th>\n",
       "      <th>accommodates</th>\n",
       "      <th>bathrooms</th>\n",
       "      <th>cleaning_fee</th>\n",
       "      <th>host_identity_verified</th>\n",
       "      <th>host_response_rate</th>\n",
       "      <th>instant_bookable</th>\n",
       "      <th>number_of_reviews</th>\n",
       "      <th>review_scores_rating</th>\n",
       "      <th>bedrooms</th>\n",
       "      <th>...</th>\n",
       "      <th>cancellation_policy_super_strict_60</th>\n",
       "      <th>property_type_Apartment</th>\n",
       "      <th>property_type_Bed &amp; Breakfast</th>\n",
       "      <th>property_type_Bungalow</th>\n",
       "      <th>property_type_Condominium</th>\n",
       "      <th>property_type_Guesthouse</th>\n",
       "      <th>property_type_House</th>\n",
       "      <th>property_type_Loft</th>\n",
       "      <th>property_type_Other</th>\n",
       "      <th>property_type_Townhouse</th>\n",
       "    </tr>\n",
       "  </thead>\n",
       "  <tbody>\n",
       "    <tr>\n",
       "      <th>0</th>\n",
       "      <td>5.010635</td>\n",
       "      <td>3</td>\n",
       "      <td>1.0</td>\n",
       "      <td>1</td>\n",
       "      <td>1</td>\n",
       "      <td>1.0</td>\n",
       "      <td>0</td>\n",
       "      <td>2</td>\n",
       "      <td>100.0</td>\n",
       "      <td>1.0</td>\n",
       "      <td>...</td>\n",
       "      <td>0</td>\n",
       "      <td>1</td>\n",
       "      <td>0</td>\n",
       "      <td>0</td>\n",
       "      <td>0</td>\n",
       "      <td>0</td>\n",
       "      <td>0</td>\n",
       "      <td>0</td>\n",
       "      <td>0</td>\n",
       "      <td>0</td>\n",
       "    </tr>\n",
       "    <tr>\n",
       "      <th>1</th>\n",
       "      <td>5.129899</td>\n",
       "      <td>7</td>\n",
       "      <td>1.0</td>\n",
       "      <td>1</td>\n",
       "      <td>0</td>\n",
       "      <td>1.0</td>\n",
       "      <td>1</td>\n",
       "      <td>6</td>\n",
       "      <td>93.0</td>\n",
       "      <td>3.0</td>\n",
       "      <td>...</td>\n",
       "      <td>0</td>\n",
       "      <td>1</td>\n",
       "      <td>0</td>\n",
       "      <td>0</td>\n",
       "      <td>0</td>\n",
       "      <td>0</td>\n",
       "      <td>0</td>\n",
       "      <td>0</td>\n",
       "      <td>0</td>\n",
       "      <td>0</td>\n",
       "    </tr>\n",
       "    <tr>\n",
       "      <th>2</th>\n",
       "      <td>4.976734</td>\n",
       "      <td>5</td>\n",
       "      <td>1.0</td>\n",
       "      <td>1</td>\n",
       "      <td>1</td>\n",
       "      <td>1.0</td>\n",
       "      <td>1</td>\n",
       "      <td>10</td>\n",
       "      <td>92.0</td>\n",
       "      <td>1.0</td>\n",
       "      <td>...</td>\n",
       "      <td>0</td>\n",
       "      <td>1</td>\n",
       "      <td>0</td>\n",
       "      <td>0</td>\n",
       "      <td>0</td>\n",
       "      <td>0</td>\n",
       "      <td>0</td>\n",
       "      <td>0</td>\n",
       "      <td>0</td>\n",
       "      <td>0</td>\n",
       "    </tr>\n",
       "    <tr>\n",
       "      <th>3</th>\n",
       "      <td>6.620073</td>\n",
       "      <td>4</td>\n",
       "      <td>1.0</td>\n",
       "      <td>1</td>\n",
       "      <td>1</td>\n",
       "      <td>1.0</td>\n",
       "      <td>0</td>\n",
       "      <td>0</td>\n",
       "      <td>0.0</td>\n",
       "      <td>2.0</td>\n",
       "      <td>...</td>\n",
       "      <td>0</td>\n",
       "      <td>0</td>\n",
       "      <td>0</td>\n",
       "      <td>0</td>\n",
       "      <td>0</td>\n",
       "      <td>0</td>\n",
       "      <td>1</td>\n",
       "      <td>0</td>\n",
       "      <td>0</td>\n",
       "      <td>0</td>\n",
       "    </tr>\n",
       "    <tr>\n",
       "      <th>4</th>\n",
       "      <td>4.744932</td>\n",
       "      <td>2</td>\n",
       "      <td>1.0</td>\n",
       "      <td>1</td>\n",
       "      <td>1</td>\n",
       "      <td>1.0</td>\n",
       "      <td>1</td>\n",
       "      <td>4</td>\n",
       "      <td>40.0</td>\n",
       "      <td>0.0</td>\n",
       "      <td>...</td>\n",
       "      <td>0</td>\n",
       "      <td>1</td>\n",
       "      <td>0</td>\n",
       "      <td>0</td>\n",
       "      <td>0</td>\n",
       "      <td>0</td>\n",
       "      <td>0</td>\n",
       "      <td>0</td>\n",
       "      <td>0</td>\n",
       "      <td>0</td>\n",
       "    </tr>\n",
       "  </tbody>\n",
       "</table>\n",
       "<p>5 rows × 39 columns</p>\n",
       "</div>"
      ],
      "text/plain": [
       "   log_price  accommodates  bathrooms  cleaning_fee  host_identity_verified  \\\n",
       "0   5.010635             3        1.0             1                       1   \n",
       "1   5.129899             7        1.0             1                       0   \n",
       "2   4.976734             5        1.0             1                       1   \n",
       "3   6.620073             4        1.0             1                       1   \n",
       "4   4.744932             2        1.0             1                       1   \n",
       "\n",
       "   host_response_rate  instant_bookable  number_of_reviews  \\\n",
       "0                 1.0                 0                  2   \n",
       "1                 1.0                 1                  6   \n",
       "2                 1.0                 1                 10   \n",
       "3                 1.0                 0                  0   \n",
       "4                 1.0                 1                  4   \n",
       "\n",
       "   review_scores_rating  bedrooms  ...  cancellation_policy_super_strict_60  \\\n",
       "0                 100.0       1.0  ...                                    0   \n",
       "1                  93.0       3.0  ...                                    0   \n",
       "2                  92.0       1.0  ...                                    0   \n",
       "3                   0.0       2.0  ...                                    0   \n",
       "4                  40.0       0.0  ...                                    0   \n",
       "\n",
       "   property_type_Apartment  property_type_Bed & Breakfast  \\\n",
       "0                        1                              0   \n",
       "1                        1                              0   \n",
       "2                        1                              0   \n",
       "3                        0                              0   \n",
       "4                        1                              0   \n",
       "\n",
       "   property_type_Bungalow  property_type_Condominium  \\\n",
       "0                       0                          0   \n",
       "1                       0                          0   \n",
       "2                       0                          0   \n",
       "3                       0                          0   \n",
       "4                       0                          0   \n",
       "\n",
       "   property_type_Guesthouse  property_type_House  property_type_Loft  \\\n",
       "0                         0                    0                   0   \n",
       "1                         0                    0                   0   \n",
       "2                         0                    0                   0   \n",
       "3                         0                    1                   0   \n",
       "4                         0                    0                   0   \n",
       "\n",
       "   property_type_Other  property_type_Townhouse  \n",
       "0                    0                        0  \n",
       "1                    0                        0  \n",
       "2                    0                        0  \n",
       "3                    0                        0  \n",
       "4                    0                        0  \n",
       "\n",
       "[5 rows x 39 columns]"
      ]
     },
     "execution_count": 37,
     "metadata": {},
     "output_type": "execute_result"
    }
   ],
   "source": [
    "price.head()"
   ]
  },
  {
   "cell_type": "code",
   "execution_count": 38,
   "metadata": {},
   "outputs": [
    {
     "data": {
      "text/plain": [
       "(74111, 39)"
      ]
     },
     "execution_count": 38,
     "metadata": {},
     "output_type": "execute_result"
    }
   ],
   "source": [
    "price.shape"
   ]
  },
  {
   "cell_type": "code",
   "execution_count": 39,
   "metadata": {},
   "outputs": [
    {
     "data": {
      "image/png": "[encoded data removed]",
      "text/plain": [
       "<Figure size 1368x1080 with 2 Axes>"
      ]
     },
     "metadata": {
      "needs_background": "light"
     },
     "output_type": "display_data"
    }
   ],
   "source": [
    "f = plt.figure(figsize=(19, 15))\n",
    "plt.matshow(price.corr(), fignum=f.number)\n",
    "plt.xticks(range(price.shape[1]), price.columns, fontsize=12, rotation=45)\n",
    "plt.yticks(range(price.shape[1]), price.columns, fontsize=14)\n",
    "cb = plt.colorbar()\n",
    "cb.ax.tick_params(labelsize=14)\n",
    "plt.title('Correlation Matrix', fontsize=15);"
   ]
  },
  {
   "cell_type": "code",
   "execution_count": 40,
   "metadata": {},
   "outputs": [],
   "source": [
    "np.random.seed(32)"
   ]
  },
  {
   "cell_type": "code",
   "execution_count": 41,
   "metadata": {},
   "outputs": [],
   "source": [
    "import random"
   ]
  },
  {
   "cell_type": "code",
   "execution_count": 42,
   "metadata": {},
   "outputs": [],
   "source": [
    "df = price.sample(5000) \n",
    "# we are taking the sample of the entire data as there is 74111 instances as it is taking alot of time in running the models."
   ]
  },
  {
   "cell_type": "code",
   "execution_count": 43,
   "metadata": {},
   "outputs": [],
   "source": [
    "X = df.drop('log_price', 1).values"
   ]
  },
  {
   "cell_type": "code",
   "execution_count": 44,
   "metadata": {},
   "outputs": [],
   "source": [
    "y = df['log_price'].values"
   ]
  },
  {
   "cell_type": "code",
   "execution_count": 45,
   "metadata": {},
   "outputs": [],
   "source": [
    "from sklearn.preprocessing import StandardScaler\n",
    "from sklearn.model_selection import train_test_split"
   ]
  },
  {
   "cell_type": "code",
   "execution_count": 46,
   "metadata": {},
   "outputs": [],
   "source": [
    "X_train_org, X_test_org, y_train, y_test = train_test_split(X, y, random_state = 0, test_size = 0.2)\n",
    "\n",
    "scaler = StandardScaler()\n",
    "X_train = scaler.fit_transform(X_train_org)\n",
    "X_test = scaler.transform(X_test_org)"
   ]
  },
  {
   "cell_type": "markdown",
   "metadata": {},
   "source": [
    "# Bagging with Lasso"
   ]
  },
  {
   "cell_type": "code",
   "execution_count": 47,
   "metadata": {
    "scrolled": true
   },
   "outputs": [
    {
     "name": "stdout",
     "output_type": "stream",
     "text": [
      "{'n_estimators': [100, 200, 300, 400, 500], 'max_samples': [50, 100, 200, 250, 400, 450]}\n",
      "Best parameters: {'max_samples': 450, 'n_estimators': 100}\n",
      "Best cross-validation score: -0.23\n"
     ]
    }
   ],
   "source": [
    "from sklearn.model_selection import cross_val_score\n",
    "from sklearn.model_selection import GridSearchCV\n",
    "from sklearn.model_selection import cross_val_predict\n",
    "from sklearn.ensemble import BaggingRegressor\n",
    "from  sklearn.linear_model import Lasso\n",
    "param_grid_lasso_bag = {'n_estimators':[100, 200, 300, 400, 500],\n",
    "                       'max_samples': [50,100,200,250,400,450]}\n",
    "print(param_grid_lasso_bag)\n",
    "\n",
    "grid_search_lasso_bag = GridSearchCV((BaggingRegressor(Lasso(0.001), bootstrap=True, random_state=0, oob_score=True)), param_grid_lasso_bag, cv=5, scoring = 'neg_mean_squared_error')\n",
    "grid_search_lasso_bag.fit(X_train, y_train)\n",
    "print(\"Best parameters: {}\".format(grid_search_lasso_bag.best_params_))\n",
    "print(\"Best cross-validation score: {:.2f}\".format(grid_search_lasso_bag.best_score_))"
   ]
  },
  {
   "cell_type": "code",
   "execution_count": 48,
   "metadata": {
    "scrolled": true
   },
   "outputs": [],
   "source": [
    "lasso_reg = Lasso(0.001)\n",
    "bag_reg_lasso = BaggingRegressor(lasso_reg, n_estimators=100, max_samples=450, bootstrap=True, random_state=0, oob_score=True)\n",
    "\n",
    "bag_reg_lasso.fit(X_train, y_train)\n",
    "y_pred_bag_reg_lasso = bag_reg_lasso.predict(X_test)"
   ]
  },
  {
   "cell_type": "code",
   "execution_count": 49,
   "metadata": {},
   "outputs": [
    {
     "name": "stdout",
     "output_type": "stream",
     "text": [
      "average train score:  0.5726610065316923\n",
      "average test score:  0.5258752784892529\n"
     ]
    }
   ],
   "source": [
    "y_pred_train_bag_lasso = cross_val_score(BaggingRegressor(lasso_reg, n_estimators=100, max_samples=450, bootstrap=True, random_state=0, oob_score=True), X_train, y_train, cv = 5)\n",
    "y_pred_train_bag_lasso_mean = y_pred_train_bag_lasso.mean()\n",
    "print(\"average train score: \", y_pred_train_bag_lasso_mean)\n",
    "\n",
    "y_pred_test_bag_lasso = cross_val_score(BaggingRegressor(lasso_reg, n_estimators=100, max_samples=450, bootstrap=True, random_state=0, oob_score=True),X_test, y_test, cv = 5)\n",
    "y_pred_test_bag_lasso_mean = y_pred_test_bag_lasso.mean()\n",
    "print(\"average test score: \", y_pred_test_bag_lasso_mean)"
   ]
  },
  {
   "cell_type": "code",
   "execution_count": 50,
   "metadata": {},
   "outputs": [
    {
     "name": "stdout",
     "output_type": "stream",
     "text": [
      "0.5826059423380407\n",
      "0.5434156849914404\n"
     ]
    }
   ],
   "source": [
    "print(bag_reg_lasso.score(X_train, y_train))\n",
    "print(bag_reg_lasso.score(X_test, y_test))"
   ]
  },
  {
   "cell_type": "code",
   "execution_count": 51,
   "metadata": {},
   "outputs": [
    {
     "name": "stdout",
     "output_type": "stream",
     "text": [
      "MSE: 0.243910\n",
      "RMSE: 0.493872\n"
     ]
    }
   ],
   "source": [
    "from sklearn.metrics import mean_squared_error\n",
    "from math import sqrt\n",
    "mse = mean_squared_error(y_test, bag_reg_lasso.predict(X_test))\n",
    "rmse = sqrt(mse)\n",
    "print('MSE: %f' % mse)\n",
    "print('RMSE: %f' % rmse)"
   ]
  },
  {
   "cell_type": "markdown",
   "metadata": {},
   "source": [
    "# Bagging with Ridge"
   ]
  },
  {
   "cell_type": "code",
   "execution_count": 52,
   "metadata": {
    "scrolled": true
   },
   "outputs": [
    {
     "name": "stdout",
     "output_type": "stream",
     "text": [
      "{'n_estimators': [100, 200, 300, 400, 500], 'max_samples': [50, 100, 200, 250, 400, 450]}\n",
      "Best parameters: {'max_samples': 450, 'n_estimators': 100}\n",
      "Best cross-validation score: -0.23\n"
     ]
    }
   ],
   "source": [
    "from  sklearn.linear_model import Ridge\n",
    "param_grid_ridge_bag = {'n_estimators':[100, 200, 300, 400, 500],\n",
    "                       'max_samples': [50,100,200,250,400,450]}\n",
    "print(param_grid_ridge_bag)\n",
    "\n",
    "grid_search_ridge_bag = GridSearchCV((BaggingRegressor(Ridge(100), bootstrap=True, random_state=0, oob_score=True)), param_grid_ridge_bag, cv=5, scoring = 'neg_mean_squared_error')\n",
    "grid_search_ridge_bag.fit(X_train, y_train)\n",
    "print(\"Best parameters: {}\".format(grid_search_ridge_bag.best_params_))\n",
    "print(\"Best cross-validation score: {:.2f}\".format(grid_search_ridge_bag.best_score_))"
   ]
  },
  {
   "cell_type": "code",
   "execution_count": 53,
   "metadata": {},
   "outputs": [],
   "source": [
    "from  sklearn.linear_model import Ridge\n",
    "\n",
    "ridge_reg = Ridge(100)\n",
    "bag_reg_ridge = BaggingRegressor(ridge_reg, n_estimators=100, max_samples=450, bootstrap=True, random_state=0, oob_score=True)\n",
    "\n",
    "bag_reg_ridge.fit(X_train, y_train)\n",
    "y_pred_bag_reg_ridge = bag_reg_ridge.predict(X_test)"
   ]
  },
  {
   "cell_type": "code",
   "execution_count": 54,
   "metadata": {},
   "outputs": [
    {
     "name": "stdout",
     "output_type": "stream",
     "text": [
      "average train score:  0.5646215618863383\n",
      "average test score:  0.5217417921155644\n"
     ]
    }
   ],
   "source": [
    "y_pred_train_bag_ridge = cross_val_score(BaggingRegressor(ridge_reg, n_estimators=100, max_samples=450, bootstrap=True, random_state=0, oob_score=True), X_train, y_train, cv = 5)\n",
    "y_pred_train_bag_ridge_mean = y_pred_train_bag_ridge.mean()\n",
    "print(\"average train score: \", y_pred_train_bag_ridge_mean)\n",
    "\n",
    "y_pred_test_bag_ridge = cross_val_score(BaggingRegressor(ridge_reg, n_estimators=100, max_samples=450, bootstrap=True, random_state=0, oob_score=True),X_test, y_test, cv = 5)\n",
    "y_pred_test_bag_ridge_mean = y_pred_test_bag_ridge.mean()\n",
    "print(\"average test score: \", y_pred_test_bag_ridge_mean)"
   ]
  },
  {
   "cell_type": "code",
   "execution_count": 55,
   "metadata": {},
   "outputs": [
    {
     "name": "stdout",
     "output_type": "stream",
     "text": [
      "0.5724652639630691\n",
      "0.5296123701445037\n"
     ]
    }
   ],
   "source": [
    "\n",
    "print(bag_reg_ridge.score(X_train, y_train))\n",
    "print(bag_reg_ridge.score(X_test, y_test))"
   ]
  },
  {
   "cell_type": "code",
   "execution_count": 56,
   "metadata": {},
   "outputs": [
    {
     "name": "stdout",
     "output_type": "stream",
     "text": [
      "MSE: 0.251283\n",
      "RMSE: 0.501282\n"
     ]
    }
   ],
   "source": [
    "\n",
    "mse = mean_squared_error(y_test, bag_reg_ridge.predict(X_test))\n",
    "rmse = sqrt(mse)\n",
    "print('MSE: %f' % mse)\n",
    "print('RMSE: %f' % rmse)"
   ]
  },
  {
   "cell_type": "markdown",
   "metadata": {},
   "source": [
    "# Pasting with Lasso"
   ]
  },
  {
   "cell_type": "code",
   "execution_count": 57,
   "metadata": {
    "scrolled": true
   },
   "outputs": [
    {
     "name": "stdout",
     "output_type": "stream",
     "text": [
      "{'n_estimators': [100, 200, 300, 400, 500], 'max_samples': [50, 100, 200, 250, 400, 450]}\n",
      "Best parameters: {'max_samples': 450, 'n_estimators': 200}\n",
      "Best cross-validation score: -0.23\n"
     ]
    }
   ],
   "source": [
    "from  sklearn.linear_model import Lasso\n",
    "param_grid_lasso_paste = {'n_estimators':[100, 200, 300, 400, 500],\n",
    "                       'max_samples': [50,100,200,250,400,450]}\n",
    "print(param_grid_lasso_paste)\n",
    "\n",
    "grid_search_lasso_paste = GridSearchCV((BaggingRegressor(Lasso(0.001), bootstrap=False, random_state=0, oob_score=False)), param_grid_lasso_paste, cv=5, scoring = 'neg_mean_squared_error')\n",
    "grid_search_lasso_paste.fit(X_train, y_train)\n",
    "print(\"Best parameters: {}\".format(grid_search_lasso_paste.best_params_))\n",
    "print(\"Best cross-validation score: {:.2f}\".format(grid_search_lasso_paste.best_score_))"
   ]
  },
  {
   "cell_type": "code",
   "execution_count": 58,
   "metadata": {
    "scrolled": false
   },
   "outputs": [],
   "source": [
    "lasso_reg = Lasso(0.001)\n",
    "paste_reg_lasso = BaggingRegressor(lasso_reg, n_estimators=200, max_samples=450, bootstrap=False, random_state=0, oob_score=False)\n",
    "\n",
    "paste_reg_lasso.fit(X_train, y_train)\n",
    "y_pred_paste_reg_lasso = paste_reg_lasso.predict(X_test)"
   ]
  },
  {
   "cell_type": "code",
   "execution_count": 59,
   "metadata": {},
   "outputs": [
    {
     "name": "stdout",
     "output_type": "stream",
     "text": [
      "average train score:  0.5727288722999825\n",
      "average test score:  0.5264840211683851\n"
     ]
    }
   ],
   "source": [
    "y_pred_train_paste_lasso = cross_val_score(BaggingRegressor(lasso_reg, n_estimators=200, max_samples=450, bootstrap=False, random_state=0, oob_score=False), X_train, y_train, cv = 5)\n",
    "y_pred_train_paste_lasso_mean = y_pred_train_paste_lasso.mean()\n",
    "print(\"average train score: \", y_pred_train_paste_lasso_mean)\n",
    "\n",
    "y_pred_test_paste_lasso = cross_val_score(BaggingRegressor(lasso_reg, n_estimators=200, max_samples=450, bootstrap=False, random_state=0, oob_score=False),X_test, y_test, cv = 5)\n",
    "y_pred_test_paste_lasso_mean = y_pred_test_paste_lasso.mean()\n",
    "print(\"average test score: \", y_pred_test_paste_lasso_mean)"
   ]
  },
  {
   "cell_type": "code",
   "execution_count": 60,
   "metadata": {},
   "outputs": [
    {
     "name": "stdout",
     "output_type": "stream",
     "text": [
      "0.5825300038647389\n",
      "0.5457479258290653\n"
     ]
    }
   ],
   "source": [
    "print(paste_reg_lasso.score(X_train, y_train))\n",
    "print(paste_reg_lasso.score(X_test, y_test))"
   ]
  },
  {
   "cell_type": "code",
   "execution_count": 61,
   "metadata": {},
   "outputs": [
    {
     "name": "stdout",
     "output_type": "stream",
     "text": [
      "MSE: 0.242664\n",
      "RMSE: 0.492609\n"
     ]
    }
   ],
   "source": [
    "\n",
    "mse = mean_squared_error(y_test, paste_reg_lasso.predict(X_test))\n",
    "rmse = sqrt(mse)\n",
    "print('MSE: %f' % mse)\n",
    "print('RMSE: %f' % rmse)"
   ]
  },
  {
   "cell_type": "markdown",
   "metadata": {},
   "source": [
    "# Pasting with Ridge"
   ]
  },
  {
   "cell_type": "code",
   "execution_count": 62,
   "metadata": {},
   "outputs": [
    {
     "name": "stdout",
     "output_type": "stream",
     "text": [
      "{'n_estimators': [100, 200, 300, 400, 500], 'max_samples': [50, 100, 200, 250, 400, 450]}\n",
      "Best parameters: {'max_samples': 450, 'n_estimators': 400}\n",
      "Best cross-validation score: -0.23\n"
     ]
    }
   ],
   "source": [
    "param_grid_ridge_paste = {'n_estimators':[100, 200, 300, 400, 500],\n",
    "                       'max_samples': [50,100,200,250,400,450]}\n",
    "print(param_grid_ridge_paste)\n",
    "\n",
    "grid_search_ridge_paste = GridSearchCV((BaggingRegressor(Ridge(100), bootstrap=False, random_state=0, oob_score=False)), param_grid_ridge_paste, cv=5, scoring = 'neg_mean_squared_error')\n",
    "grid_search_ridge_paste.fit(X_train, y_train)\n",
    "print(\"Best parameters: {}\".format(grid_search_ridge_paste.best_params_))\n",
    "print(\"Best cross-validation score: {:.2f}\".format(grid_search_ridge_paste.best_score_))"
   ]
  },
  {
   "cell_type": "code",
   "execution_count": 63,
   "metadata": {},
   "outputs": [],
   "source": [
    "\n",
    "ridge_reg = Ridge(100)\n",
    "paste_reg_ridge = BaggingRegressor(ridge_reg, n_estimators=400, max_samples=450, bootstrap=False, random_state=0, oob_score=False)\n",
    "\n",
    "paste_reg_ridge.fit(X_train, y_train)\n",
    "y_pred_paste_reg_ridge = paste_reg_ridge.predict(X_test)\n",
    "                                   "
   ]
  },
  {
   "cell_type": "code",
   "execution_count": 64,
   "metadata": {},
   "outputs": [
    {
     "name": "stdout",
     "output_type": "stream",
     "text": [
      "average train score:  0.5646559404971183\n",
      "average test score:  0.5225748978370194\n"
     ]
    }
   ],
   "source": [
    "y_pred_train_paste_ridge = cross_val_score(BaggingRegressor(ridge_reg, n_estimators=400, max_samples=450, bootstrap=False, random_state=0, oob_score=False), X_train, y_train, cv = 5)\n",
    "y_pred_train_paste_ridge_mean = y_pred_train_paste_ridge.mean()\n",
    "print(\"average train score: \", y_pred_train_paste_ridge_mean)\n",
    "\n",
    "y_pred_test_paste_ridge = cross_val_score(BaggingRegressor(ridge_reg, n_estimators=400, max_samples=450, bootstrap=False, random_state=0, oob_score=False),X_test, y_test, cv = 5)\n",
    "y_pred_test_paste_ridge_mean = y_pred_test_paste_ridge.mean()\n",
    "print(\"average test score: \", y_pred_test_paste_ridge_mean)"
   ]
  },
  {
   "cell_type": "code",
   "execution_count": 65,
   "metadata": {},
   "outputs": [
    {
     "name": "stdout",
     "output_type": "stream",
     "text": [
      "0.5726169024156853\n",
      "0.5307759952890133\n"
     ]
    }
   ],
   "source": [
    "print(paste_reg_ridge.score(X_train, y_train))\n",
    "print(paste_reg_ridge.score(X_test, y_test))"
   ]
  },
  {
   "cell_type": "code",
   "execution_count": 66,
   "metadata": {},
   "outputs": [
    {
     "name": "stdout",
     "output_type": "stream",
     "text": [
      "MSE: 0.250662\n",
      "RMSE: 0.500661\n"
     ]
    }
   ],
   "source": [
    "mse = mean_squared_error(y_test, paste_reg_ridge.predict(X_test))\n",
    "rmse = sqrt(mse)\n",
    "print('MSE: %f' % mse)\n",
    "print('RMSE: %f' % rmse)"
   ]
  },
  {
   "cell_type": "markdown",
   "metadata": {},
   "source": [
    "# AdaBoosting with Lasso"
   ]
  },
  {
   "cell_type": "code",
   "execution_count": 67,
   "metadata": {
    "scrolled": true
   },
   "outputs": [
    {
     "name": "stdout",
     "output_type": "stream",
     "text": [
      "{'n_estimators': [100, 200, 300, 400, 500], 'learning_rate': [0.1, 0.2, 0.5, 1, 10]}\n",
      "Best parameters: {'learning_rate': 0.1, 'n_estimators': 400}\n",
      "Best cross-validation score: -0.24\n"
     ]
    }
   ],
   "source": [
    "from sklearn.ensemble import AdaBoostRegressor\n",
    "param_grid_lasso_ada = {'n_estimators':[100, 200, 300, 400, 500],\n",
    "                       'learning_rate': [0.1, 0.2, 0.5, 1, 10]}\n",
    "print(param_grid_lasso_ada)\n",
    "\n",
    "grid_search_lasso_ada = GridSearchCV((AdaBoostRegressor(Lasso(0.001))), param_grid_lasso_ada, cv=5, scoring = 'neg_mean_squared_error')\n",
    "grid_search_lasso_ada.fit(X_train, y_train)\n",
    "print(\"Best parameters: {}\".format(grid_search_lasso_ada.best_params_))\n",
    "print(\"Best cross-validation score: {:.2f}\".format(grid_search_lasso_ada.best_score_))"
   ]
  },
  {
   "cell_type": "code",
   "execution_count": 68,
   "metadata": {},
   "outputs": [],
   "source": [
    "\n",
    "ada_reg_lasso = AdaBoostRegressor(Lasso(0.001), n_estimators=400, learning_rate=0.1, random_state=0)\n",
    "ada_reg_lasso.fit(X_train, y_train)\n",
    "y_pred_ada_reg_lasso = ada_reg_lasso.predict(X_test)"
   ]
  },
  {
   "cell_type": "code",
   "execution_count": 69,
   "metadata": {
    "scrolled": true
   },
   "outputs": [
    {
     "name": "stdout",
     "output_type": "stream",
     "text": [
      "average train score:  0.550968339026997\n",
      "average test score:  0.4727641666551007\n"
     ]
    }
   ],
   "source": [
    "y_pred_train_ada_lasso = cross_val_score(AdaBoostRegressor(Lasso(0.001), n_estimators=400, learning_rate=0.1, random_state=0), X_train, y_train, cv = 5)\n",
    "y_pred_train_ada_lasso_mean = y_pred_train_ada_lasso.mean()\n",
    "print(\"average train score: \", y_pred_train_ada_lasso_mean)\n",
    "\n",
    "y_pred_test_ada_lasso = cross_val_score(AdaBoostRegressor(Lasso(0.001), n_estimators=400, learning_rate=0.1, random_state=0),X_test, y_test, cv = 5)\n",
    "y_pred_test_ada_lasso_mean = y_pred_test_ada_lasso.mean()\n",
    "print(\"average test score: \", y_pred_test_ada_lasso_mean)"
   ]
  },
  {
   "cell_type": "code",
   "execution_count": 70,
   "metadata": {},
   "outputs": [
    {
     "name": "stdout",
     "output_type": "stream",
     "text": [
      "0.5638332564056466\n",
      "0.5419061878632847\n"
     ]
    }
   ],
   "source": [
    "print(ada_reg_lasso.score(X_train, y_train))\n",
    "print(ada_reg_lasso.score(X_test, y_test))"
   ]
  },
  {
   "cell_type": "code",
   "execution_count": 71,
   "metadata": {},
   "outputs": [
    {
     "name": "stdout",
     "output_type": "stream",
     "text": [
      "MSE: 0.244716\n",
      "RMSE: 0.494688\n"
     ]
    }
   ],
   "source": [
    "\n",
    "mse = mean_squared_error(y_test, ada_reg_lasso.predict(X_test))\n",
    "rmse = sqrt(mse)\n",
    "print('MSE: %f' % mse)\n",
    "print('RMSE: %f' % rmse)"
   ]
  },
  {
   "cell_type": "markdown",
   "metadata": {},
   "source": [
    "# AdaBoosting with Ridge"
   ]
  },
  {
   "cell_type": "code",
   "execution_count": 72,
   "metadata": {},
   "outputs": [
    {
     "name": "stdout",
     "output_type": "stream",
     "text": [
      "{'n_estimators': [100, 200, 300, 400, 500], 'learning_rate': [0.1, 0.2, 0.5, 1, 10]}\n",
      "Best parameters: {'learning_rate': 0.5, 'n_estimators': 500}\n",
      "Best cross-validation score: -0.24\n"
     ]
    }
   ],
   "source": [
    "param_grid_ridge_ada = {'n_estimators':[100, 200, 300, 400, 500],\n",
    "                       'learning_rate': [0.1, 0.2, 0.5, 1, 10]}\n",
    "print(param_grid_ridge_ada)\n",
    "\n",
    "grid_search_ridge_ada = GridSearchCV((AdaBoostRegressor(Ridge(100))), param_grid_ridge_ada, cv=5, scoring = 'neg_mean_squared_error')\n",
    "grid_search_ridge_ada.fit(X_train, y_train)\n",
    "print(\"Best parameters: {}\".format(grid_search_ridge_ada.best_params_))\n",
    "print(\"Best cross-validation score: {:.2f}\".format(grid_search_ridge_ada.best_score_))"
   ]
  },
  {
   "cell_type": "code",
   "execution_count": 73,
   "metadata": {
    "scrolled": true
   },
   "outputs": [],
   "source": [
    "ada_reg_ridge = AdaBoostRegressor(Ridge(100), n_estimators=100, learning_rate=0.5, random_state=0)\n",
    "ada_reg_ridge.fit(X_train, y_train)\n",
    "y_pred_ada_reg_ridge = ada_reg_ridge.predict(X_test)"
   ]
  },
  {
   "cell_type": "code",
   "execution_count": 74,
   "metadata": {},
   "outputs": [
    {
     "name": "stdout",
     "output_type": "stream",
     "text": [
      "average train score:  0.5517769272427595\n",
      "average test score:  0.4824861876112999\n"
     ]
    }
   ],
   "source": [
    "y_pred_train_ada_ridge = cross_val_score(AdaBoostRegressor(Ridge(100), n_estimators=100, learning_rate=0.5, random_state=0), X_train, y_train, cv = 5)\n",
    "y_pred_train_ada_ridge_mean = y_pred_train_ada_ridge.mean()\n",
    "print(\"average train score: \", y_pred_train_ada_ridge_mean)\n",
    "\n",
    "y_pred_test_ada_ridge = cross_val_score(AdaBoostRegressor(Ridge(100), n_estimators=100, learning_rate=0.5, random_state=0),X_test, y_test, cv = 5)\n",
    "y_pred_test_ada_ridge_mean = y_pred_test_ada_ridge.mean()\n",
    "print(\"average test score: \", y_pred_test_ada_ridge_mean)"
   ]
  },
  {
   "cell_type": "code",
   "execution_count": 75,
   "metadata": {},
   "outputs": [
    {
     "name": "stdout",
     "output_type": "stream",
     "text": [
      "0.5610681723810598\n",
      "0.5429545912907446\n"
     ]
    }
   ],
   "source": [
    "print(ada_reg_ridge.score(X_train, y_train))\n",
    "print(ada_reg_ridge.score(X_test, y_test))"
   ]
  },
  {
   "cell_type": "code",
   "execution_count": 76,
   "metadata": {},
   "outputs": [
    {
     "name": "stdout",
     "output_type": "stream",
     "text": [
      "MSE: 0.244156\n",
      "RMSE: 0.494121\n"
     ]
    }
   ],
   "source": [
    "\n",
    "mse = mean_squared_error(y_test, ada_reg_ridge.predict(X_test))\n",
    "rmse = sqrt(mse)\n",
    "print('MSE: %f' % mse)\n",
    "print('RMSE: %f' % rmse)"
   ]
  },
  {
   "cell_type": "markdown",
   "metadata": {},
   "source": [
    "# GradientBoosting"
   ]
  },
  {
   "cell_type": "code",
   "execution_count": 77,
   "metadata": {},
   "outputs": [
    {
     "name": "stdout",
     "output_type": "stream",
     "text": [
      "{'max_depth': [2, 3, 5, 7, 10, 20], 'n_estimators': [3, 5, 7, 10, 15, 25, 50, 100], 'learning_rate': [0.1, 0.2, 0.5, 1, 10]}\n",
      "Best parameters: {'learning_rate': 0.2, 'max_depth': 2, 'n_estimators': 100}\n",
      "Best cross-validation score: -0.21\n"
     ]
    }
   ],
   "source": [
    "from  sklearn.ensemble import GradientBoostingRegressor\n",
    "param_grid_gradient = {'max_depth':[2,3,5,7,10,20], \n",
    "                        'n_estimators':[3,5,7,10,15,25,50,100],\n",
    "                       'learning_rate': [0.1, 0.2, 0.5, 1, 10]}\n",
    "print(param_grid_gradient)\n",
    "\n",
    "grid_search_gradient = GridSearchCV((GradientBoostingRegressor(random_state=42)), param_grid_gradient, cv=5, scoring = 'neg_mean_squared_error')\n",
    "grid_search_gradient.fit(X_train, y_train)\n",
    "print(\"Best parameters: {}\".format(grid_search_gradient.best_params_))\n",
    "print(\"Best cross-validation score: {:.2f}\".format(grid_search_gradient.best_score_))"
   ]
  },
  {
   "cell_type": "code",
   "execution_count": 78,
   "metadata": {},
   "outputs": [],
   "source": [
    "gbrt = GradientBoostingRegressor(max_depth=2, n_estimators=100, learning_rate=0.2, random_state=42)\n",
    "gbrt.fit(X_train, y_train)\n",
    "y_pred_gradient = gbrt.predict(X_test)"
   ]
  },
  {
   "cell_type": "code",
   "execution_count": 79,
   "metadata": {},
   "outputs": [
    {
     "name": "stdout",
     "output_type": "stream",
     "text": [
      "average train score:  0.6004770774167592\n",
      "average test score:  0.5409343993519256\n"
     ]
    }
   ],
   "source": [
    "y_pred_train_gbrt = cross_val_score(GradientBoostingRegressor(max_depth=2, n_estimators=100, learning_rate=0.2, random_state=42), X_train, y_train, cv = 5)\n",
    "y_pred_train_gbrt_mean = y_pred_train_gbrt.mean()\n",
    "print(\"average train score: \", y_pred_train_gbrt_mean)\n",
    "\n",
    "y_pred_test_gbrt = cross_val_score(GradientBoostingRegressor(max_depth=2, n_estimators=100, learning_rate=0.2, random_state=42),X_test, y_test, cv = 5)\n",
    "y_pred_test_gbrt_mean = y_pred_test_gbrt.mean()\n",
    "print(\"average test score: \", y_pred_test_gbrt_mean)"
   ]
  },
  {
   "cell_type": "code",
   "execution_count": 80,
   "metadata": {},
   "outputs": [
    {
     "name": "stdout",
     "output_type": "stream",
     "text": [
      "0.6379024310228486\n",
      "0.5825260451944985\n"
     ]
    }
   ],
   "source": [
    "print(gbrt.score(X_train, y_train))\n",
    "print(gbrt.score(X_test, y_test))"
   ]
  },
  {
   "cell_type": "code",
   "execution_count": 81,
   "metadata": {},
   "outputs": [
    {
     "name": "stdout",
     "output_type": "stream",
     "text": [
      "MSE: 0.223017\n",
      "RMSE: 0.472246\n"
     ]
    }
   ],
   "source": [
    "\n",
    "mse = mean_squared_error(y_test, gbrt.predict(X_test))\n",
    "rmse = sqrt(mse)\n",
    "print('MSE: %f' % mse)\n",
    "print('RMSE: %f' % rmse)"
   ]
  },
  {
   "cell_type": "markdown",
   "metadata": {},
   "source": [
    "# PCA"
   ]
  },
  {
   "cell_type": "code",
   "execution_count": 82,
   "metadata": {},
   "outputs": [],
   "source": [
    "from sklearn.decomposition import PCA\n",
    "\n",
    "\n",
    "pca_reg = PCA(n_components=0.95)\n",
    "#train\n",
    "pca_reg.fit(X_train)\n",
    "#transform\n",
    "X_train_pca = pca_reg.transform(X_train)\n",
    "X_test_pca = pca_reg.transform(X_test)"
   ]
  },
  {
   "cell_type": "code",
   "execution_count": 83,
   "metadata": {},
   "outputs": [
    {
     "data": {
      "text/plain": [
       "(4000, 29)"
      ]
     },
     "execution_count": 83,
     "metadata": {},
     "output_type": "execute_result"
    }
   ],
   "source": [
    "X_train_pca.shape"
   ]
  },
  {
   "cell_type": "code",
   "execution_count": 84,
   "metadata": {},
   "outputs": [
    {
     "data": {
      "text/plain": [
       "(1000, 29)"
      ]
     },
     "execution_count": 84,
     "metadata": {},
     "output_type": "execute_result"
    }
   ],
   "source": [
    "X_test_pca.shape"
   ]
  },
  {
   "cell_type": "markdown",
   "metadata": {},
   "source": [
    "# PCA - KNeighborsRegressor"
   ]
  },
  {
   "cell_type": "code",
   "execution_count": 85,
   "metadata": {},
   "outputs": [
    {
     "name": "stdout",
     "output_type": "stream",
     "text": [
      "{'n_neighbors': [1, 2, 3, 4, 5, 6, 7, 8, 9, 10, 11, 12, 13, 14, 15, 16, 17, 18, 19, 20, 21, 22, 23, 24, 25, 26, 27, 28, 29, 30, 31, 32, 33, 34, 35, 36, 37, 38, 39, 40, 41, 42, 43, 44, 45, 46, 47, 48, 49, 50, 51, 52, 53, 54, 55, 56, 57, 58, 59, 60, 61, 62, 63, 64, 65, 66, 67, 68, 69, 70, 71, 72, 73, 74]}\n",
      "Best parameters: {'n_neighbors': 23}\n",
      "Best cross-validation score: -0.26\n"
     ]
    }
   ],
   "source": [
    "from sklearn.neighbors import KNeighborsRegressor\n",
    "from sklearn.model_selection import cross_val_score\n",
    "from sklearn.model_selection import GridSearchCV\n",
    "from sklearn.model_selection import cross_val_predict\n",
    "param_grid_knn = {'n_neighbors':list(range(1,75))}\n",
    "print(param_grid_knn)\n",
    "knn = KNeighborsRegressor()\n",
    "grid_search_knn = GridSearchCV(knn, param_grid_knn, cv=5, scoring = 'neg_mean_squared_error')\n",
    "grid_search_knn.fit(X_train_pca, y_train)\n",
    "print(\"Best parameters: {}\".format(grid_search_knn.best_params_))\n",
    "print(\"Best cross-validation score: {:.2f}\".format(grid_search_knn.best_score_))"
   ]
  },
  {
   "cell_type": "code",
   "execution_count": 86,
   "metadata": {},
   "outputs": [
    {
     "name": "stdout",
     "output_type": "stream",
     "text": [
      "MSE:  0.26118746765233725\n"
     ]
    }
   ],
   "source": [
    "knn_score = cross_val_score(KNeighborsRegressor(23),X_train_pca, y_train, cv = 5,scoring = 'neg_mean_squared_error' )\n",
    "knn_score_n = -knn_score\n",
    "print('MSE: ', knn_score_n.mean())"
   ]
  },
  {
   "cell_type": "code",
   "execution_count": 87,
   "metadata": {},
   "outputs": [
    {
     "name": "stdout",
     "output_type": "stream",
     "text": [
      "average train score:  0.5106549369039571\n",
      "average test score:  0.44768093191132347\n"
     ]
    }
   ],
   "source": [
    "y_pred_train = cross_val_score(KNeighborsRegressor(23),X_train_pca, y_train, cv = 5)\n",
    "y_pred_train_mean = y_pred_train.mean()\n",
    "print(\"average train score: \", y_pred_train_mean)\n",
    "\n",
    "y_pred_test = cross_val_score(KNeighborsRegressor(23),X_test_pca, y_test, cv = 5)\n",
    "y_pred_test_mean = y_pred_test.mean()\n",
    "print(\"average test score: \", y_pred_test_mean)"
   ]
  },
  {
   "cell_type": "code",
   "execution_count": 88,
   "metadata": {},
   "outputs": [
    {
     "name": "stdout",
     "output_type": "stream",
     "text": [
      "0.5656860754370086\n",
      "0.4856740620438704\n"
     ]
    }
   ],
   "source": [
    "knn = KNeighborsRegressor(20)\n",
    "knn.fit(X_train_pca, y_train)\n",
    "print(knn.score(X_train_pca, y_train))\n",
    "print(knn.score(X_test_pca, y_test))"
   ]
  },
  {
   "cell_type": "code",
   "execution_count": 89,
   "metadata": {},
   "outputs": [
    {
     "name": "stdout",
     "output_type": "stream",
     "text": [
      "MSE: 0.274755\n",
      "RMSE: 0.524171\n"
     ]
    }
   ],
   "source": [
    "from sklearn.metrics import mean_squared_error\n",
    "from math import sqrt\n",
    "mse = mean_squared_error(y_test, knn.predict(X_test_pca))\n",
    "rmse = sqrt(mse)\n",
    "print('MSE: %f' % mse)\n",
    "print('RMSE: %f' % rmse)"
   ]
  },
  {
   "cell_type": "markdown",
   "metadata": {},
   "source": [
    "# PCA - Linear Regression"
   ]
  },
  {
   "cell_type": "code",
   "execution_count": 90,
   "metadata": {},
   "outputs": [
    {
     "data": {
      "text/plain": [
       "0.8737570684082427"
      ]
     },
     "execution_count": 90,
     "metadata": {},
     "output_type": "execute_result"
    }
   ],
   "source": [
    "from sklearn.linear_model import LinearRegression\n",
    "\n",
    "lreg = LinearRegression()\n",
    "lreg_score = cross_val_score(lreg,X_train_pca, y_train, cv = 5,scoring = 'neg_mean_squared_error' )\n",
    "lreg_score\n",
    "lreg_score_n = -lreg_score\n",
    "lreg_score_n.mean()"
   ]
  },
  {
   "cell_type": "code",
   "execution_count": 91,
   "metadata": {},
   "outputs": [
    {
     "name": "stdout",
     "output_type": "stream",
     "text": [
      "average train score:  -0.5901698490765903\n",
      "average test score:  0.4502972570162022\n"
     ]
    }
   ],
   "source": [
    "y_pred_train = cross_val_score(LinearRegression(),X_train_pca, y_train, cv = 5)\n",
    "y_pred_train_mean = y_pred_train.mean()\n",
    "print(\"average train score: \", y_pred_train_mean)\n",
    "\n",
    "y_pred_test = cross_val_score(LinearRegression(),X_test_pca, y_test, cv = 5)\n",
    "y_pred_test_mean = y_pred_test.mean()\n",
    "print(\"average test score: \", y_pred_test_mean)"
   ]
  },
  {
   "cell_type": "code",
   "execution_count": 92,
   "metadata": {},
   "outputs": [
    {
     "name": "stdout",
     "output_type": "stream",
     "text": [
      "0.5633147093111108\n",
      "0.5234935079236536\n"
     ]
    }
   ],
   "source": [
    "lreg = LinearRegression()\n",
    "lreg.fit(X_train_pca, y_train)\n",
    "print(lreg.score(X_train_pca, y_train))\n",
    "print(lreg.score(X_test_pca, y_test))"
   ]
  },
  {
   "cell_type": "code",
   "execution_count": 93,
   "metadata": {},
   "outputs": [
    {
     "name": "stdout",
     "output_type": "stream",
     "text": [
      "MSE: 0.254552\n",
      "RMSE: 0.504532\n"
     ]
    }
   ],
   "source": [
    "from sklearn.metrics import mean_squared_error\n",
    "from math import sqrt\n",
    "mse = mean_squared_error(y_test, lreg.predict(X_test_pca))\n",
    "rmse = sqrt(mse)\n",
    "print('MSE: %f' % mse)\n",
    "print('RMSE: %f' % rmse)"
   ]
  },
  {
   "cell_type": "markdown",
   "metadata": {},
   "source": [
    "# PCA - Polynomial Regression"
   ]
  },
  {
   "cell_type": "code",
   "execution_count": 94,
   "metadata": {},
   "outputs": [
    {
     "name": "stdout",
     "output_type": "stream",
     "text": [
      "-0.5901698490765822\n",
      "1\n",
      "-1.8107755712522636e+20\n",
      "2\n",
      "-2.1418872809582305e+25\n",
      "3\n",
      "-1.0952867048403323e+22\n",
      "4\n"
     ]
    }
   ],
   "source": [
    "from  sklearn.preprocessing  import PolynomialFeatures\n",
    "for n in range(1,5):\n",
    "    polynomial = PolynomialFeatures(n)\n",
    "    X_train_polynomial = polynomial.fit_transform(X_train_pca)\n",
    "    lreg.fit(X_train_polynomial, y_train)\n",
    "    scores = cross_val_score(lreg, X_train_polynomial, y_train, cv=5)\n",
    "    score = scores.mean()\n",
    "    print(score)\n",
    "    print(n)"
   ]
  },
  {
   "cell_type": "code",
   "execution_count": 95,
   "metadata": {},
   "outputs": [
    {
     "data": {
      "text/plain": [
       "0.8737570684082382"
      ]
     },
     "execution_count": 95,
     "metadata": {},
     "output_type": "execute_result"
    }
   ],
   "source": [
    "poly1 = PolynomialFeatures(1)\n",
    "X_train_poly1 = poly1.fit_transform(X_train_pca)\n",
    "X_test_poly1 = poly1.transform(X_test_pca)\n",
    "poly_score = cross_val_score(lreg,X_train_poly1, y_train, cv = 5,scoring = 'neg_mean_squared_error' )\n",
    "poly_score_n = -poly_score\n",
    "poly_score_n.mean()"
   ]
  },
  {
   "cell_type": "code",
   "execution_count": 96,
   "metadata": {},
   "outputs": [
    {
     "name": "stdout",
     "output_type": "stream",
     "text": [
      "average train score:  -0.5901698490765822\n",
      "average test score:  0.4502972570162026\n"
     ]
    }
   ],
   "source": [
    "y_pred_train = cross_val_score(lreg, X_train_poly1, y_train, cv = 5)\n",
    "y_pred_train_mean = y_pred_train.mean()\n",
    "print(\"average train score: \", y_pred_train_mean)\n",
    "\n",
    "y_pred_test = cross_val_score(lreg,X_test_poly1, y_test, cv = 5)\n",
    "y_pred_test_mean = y_pred_test.mean()\n",
    "print(\"average test score: \", y_pred_test_mean)"
   ]
  },
  {
   "cell_type": "code",
   "execution_count": 97,
   "metadata": {},
   "outputs": [
    {
     "name": "stdout",
     "output_type": "stream",
     "text": [
      "0.5633147093111108\n",
      "0.5234935079236536\n"
     ]
    }
   ],
   "source": [
    "poly = PolynomialFeatures(1)\n",
    "X_train_poly = poly.fit_transform(X_train_pca)\n",
    "X_test_poly = poly.transform(X_test_pca)\n",
    "lreg.fit(X_train_poly, y_train)\n",
    "print(lreg.score(X_train_poly, y_train))\n",
    "print(lreg.score(X_test_poly, y_test))"
   ]
  },
  {
   "cell_type": "code",
   "execution_count": 98,
   "metadata": {},
   "outputs": [
    {
     "name": "stdout",
     "output_type": "stream",
     "text": [
      "MSE: 0.254552\n",
      "RMSE: 0.504532\n"
     ]
    }
   ],
   "source": [
    "from sklearn.metrics import mean_squared_error\n",
    "from math import sqrt\n",
    "mse = mean_squared_error(y_test, lreg.predict(X_test_poly))\n",
    "rmse = sqrt(mse)\n",
    "print('MSE: %f' % mse)\n",
    "print('RMSE: %f' % rmse)"
   ]
  },
  {
   "cell_type": "markdown",
   "metadata": {},
   "source": [
    "# PCA - Ridge"
   ]
  },
  {
   "cell_type": "code",
   "execution_count": 99,
   "metadata": {},
   "outputs": [
    {
     "name": "stdout",
     "output_type": "stream",
     "text": [
      "{'alpha': [0.01, 0.1, 1, 10, 100, 1000]}\n",
      "Best parameters: {'alpha': 100}\n",
      "Best cross-validation score: -0.24\n"
     ]
    }
   ],
   "source": [
    "param_grid_ridge = {'alpha':[0.01, 0.1, 1, 10, 100, 1000]}\n",
    "print(param_grid_ridge)\n",
    "ridge = Ridge()\n",
    "grid_search_ridge = GridSearchCV(ridge, param_grid_ridge, cv=5, scoring = 'neg_mean_squared_error')\n",
    "grid_search_ridge.fit(X_train_pca, y_train)\n",
    "print(\"Best parameters: {}\".format(grid_search_ridge.best_params_))\n",
    "print(\"Best cross-validation score: {:.2f}\".format(grid_search_ridge.best_score_))"
   ]
  },
  {
   "cell_type": "code",
   "execution_count": 100,
   "metadata": {},
   "outputs": [
    {
     "data": {
      "text/plain": [
       "0.24143033414818982"
      ]
     },
     "execution_count": 100,
     "metadata": {},
     "output_type": "execute_result"
    }
   ],
   "source": [
    "ridge_score = cross_val_score(Ridge(100),X_train_pca, y_train, cv = 5,scoring = 'neg_mean_squared_error' )\n",
    "ridge_score_n = -ridge_score\n",
    "ridge_score_n.mean()"
   ]
  },
  {
   "cell_type": "code",
   "execution_count": 101,
   "metadata": {},
   "outputs": [
    {
     "name": "stdout",
     "output_type": "stream",
     "text": [
      "average train score:  0.5477866418932302\n",
      "average test score:  0.5104222616265581\n"
     ]
    }
   ],
   "source": [
    "y_pred_train = cross_val_score(Ridge(100), X_train_pca, y_train, cv = 5)\n",
    "y_pred_train_mean = y_pred_train.mean()\n",
    "print(\"average train score: \", y_pred_train_mean)\n",
    "\n",
    "y_pred_test = cross_val_score(Ridge(100),X_test_pca, y_test, cv = 5)\n",
    "y_pred_test_mean = y_pred_test.mean()\n",
    "print(\"average test score: \", y_pred_test_mean)"
   ]
  },
  {
   "cell_type": "code",
   "execution_count": 102,
   "metadata": {},
   "outputs": [
    {
     "name": "stdout",
     "output_type": "stream",
     "text": [
      "0.563232610100749\n",
      "0.5231144250936611\n"
     ]
    }
   ],
   "source": [
    "ridge = Ridge(100)\n",
    "ridge.fit(X_train_pca, y_train)\n",
    "print(ridge.score(X_train_pca, y_train))\n",
    "print(ridge.score(X_test_pca, y_test))"
   ]
  },
  {
   "cell_type": "code",
   "execution_count": 103,
   "metadata": {},
   "outputs": [
    {
     "name": "stdout",
     "output_type": "stream",
     "text": [
      "MSE: 0.254755\n",
      "RMSE: 0.504732\n"
     ]
    }
   ],
   "source": [
    "from sklearn.metrics import mean_squared_error\n",
    "from math import sqrt\n",
    "mse = mean_squared_error(y_test, ridge.predict(X_test_pca))\n",
    "rmse = sqrt(mse)\n",
    "print('MSE: %f' % mse)\n",
    "print('RMSE: %f' % rmse)"
   ]
  },
  {
   "cell_type": "markdown",
   "metadata": {},
   "source": [
    "# PCA - Lasso"
   ]
  },
  {
   "cell_type": "code",
   "execution_count": 104,
   "metadata": {},
   "outputs": [
    {
     "name": "stdout",
     "output_type": "stream",
     "text": [
      "{'alpha': [0.001, 0.01, 0.1, 1, 10, 100, 1000]}\n",
      "Best parameters: {'alpha': 0.01}\n",
      "Best cross-validation score: -0.24\n"
     ]
    }
   ],
   "source": [
    "param_grid_lasso = {'alpha':[0.001, 0.01, 0.1, 1, 10, 100, 1000]}\n",
    "print(param_grid_lasso)\n",
    "lasso = Lasso()\n",
    "grid_search_lasso = GridSearchCV(lasso, param_grid_lasso, cv=5, scoring = 'neg_mean_squared_error')\n",
    "grid_search_lasso.fit(X_train_pca, y_train)\n",
    "print(\"Best parameters: {}\".format(grid_search_lasso.best_params_))\n",
    "print(\"Best cross-validation score: {:.2f}\".format(grid_search_lasso.best_score_))"
   ]
  },
  {
   "cell_type": "code",
   "execution_count": 105,
   "metadata": {},
   "outputs": [
    {
     "data": {
      "text/plain": [
       "0.23974584839687701"
      ]
     },
     "execution_count": 105,
     "metadata": {},
     "output_type": "execute_result"
    }
   ],
   "source": [
    "lasso_score = cross_val_score(Lasso(0.01),X_train_pca, y_train, cv = 5,scoring = 'neg_mean_squared_error' )\n",
    "lasso_score_n = -lasso_score\n",
    "lasso_score_n.mean()"
   ]
  },
  {
   "cell_type": "code",
   "execution_count": 106,
   "metadata": {},
   "outputs": [
    {
     "name": "stdout",
     "output_type": "stream",
     "text": [
      "average train score:  0.5508018444521523\n",
      "average test score:  0.5112792574422154\n"
     ]
    }
   ],
   "source": [
    "y_pred_train = cross_val_score(Lasso(0.01), X_train_pca, y_train, cv = 5)\n",
    "y_pred_train_mean = y_pred_train.mean()\n",
    "print(\"average train score: \", y_pred_train_mean)\n",
    "\n",
    "y_pred_test = cross_val_score(Lasso(0.01),X_test_pca, y_test, cv = 5)\n",
    "y_pred_test_mean = y_pred_test.mean()\n",
    "print(\"average test score: \", y_pred_test_mean)"
   ]
  },
  {
   "cell_type": "code",
   "execution_count": 107,
   "metadata": {},
   "outputs": [
    {
     "name": "stdout",
     "output_type": "stream",
     "text": [
      "0.558777738821365\n",
      "0.5182812445011237\n"
     ]
    }
   ],
   "source": [
    "lasso = Lasso(0.01)\n",
    "lasso.fit(X_train_pca, y_train)\n",
    "print(lasso.score(X_train_pca, y_train))\n",
    "print(lasso.score(X_test_pca, y_test))"
   ]
  },
  {
   "cell_type": "code",
   "execution_count": 108,
   "metadata": {},
   "outputs": [
    {
     "name": "stdout",
     "output_type": "stream",
     "text": [
      "MSE: 0.257337\n",
      "RMSE: 0.507283\n"
     ]
    }
   ],
   "source": [
    "from sklearn.metrics import mean_squared_error\n",
    "from math import sqrt\n",
    "mse = mean_squared_error(y_test, lasso.predict(X_test_pca))\n",
    "rmse = sqrt(mse)\n",
    "print('MSE: %f' % mse)\n",
    "print('RMSE: %f' % rmse)"
   ]
  },
  {
   "cell_type": "markdown",
   "metadata": {},
   "source": [
    "# PCA - LinearSVR"
   ]
  },
  {
   "cell_type": "code",
   "execution_count": 109,
   "metadata": {
    "scrolled": true
   },
   "outputs": [
    {
     "name": "stdout",
     "output_type": "stream",
     "text": [
      "{'C': [0.001, 0.01, 0.1, 1, 10, 100, 1000], 'epsilon': [0.001, 0.01, 0.1, 1, 10, 100]}\n",
      "Best parameters: {'C': 0.01, 'epsilon': 0.1}\n",
      "Best cross-validation score: -0.25\n"
     ]
    }
   ],
   "source": [
    "from  sklearn.svm import LinearSVR\n",
    "param_grid_svr = {'C':[0.001, 0.01, 0.1, 1, 10, 100, 1000],\n",
    "             'epsilon': [0.001, 0.01, 0.1, 1, 10, 100]}\n",
    "print(param_grid_svr)\n",
    "svr = LinearSVR()\n",
    "grid_search_svr = GridSearchCV(svr, param_grid_svr, cv=5, scoring = 'neg_mean_squared_error')\n",
    "grid_search_svr.fit(X_train_pca, y_train)\n",
    "print(\"Best parameters: {}\".format(grid_search_svr.best_params_))\n",
    "print(\"Best cross-validation score: {:.2f}\".format(grid_search_svr.best_score_))"
   ]
  },
  {
   "cell_type": "code",
   "execution_count": 110,
   "metadata": {},
   "outputs": [
    {
     "data": {
      "text/plain": [
       "0.25096568971365724"
      ]
     },
     "execution_count": 110,
     "metadata": {},
     "output_type": "execute_result"
    }
   ],
   "source": [
    "lsvr_score = cross_val_score(LinearSVR(C = 0.01, epsilon = 0.1),X_train_pca, y_train, cv = 5,scoring = 'neg_mean_squared_error' )\n",
    "lsvr_score_n = -lsvr_score\n",
    "lsvr_score_n.mean()"
   ]
  },
  {
   "cell_type": "code",
   "execution_count": 111,
   "metadata": {},
   "outputs": [
    {
     "name": "stdout",
     "output_type": "stream",
     "text": [
      "average train score:  0.5298904205026783\n",
      "average test score:  0.16236956903237937\n"
     ]
    }
   ],
   "source": [
    "y_pred_train = cross_val_score(LinearSVR(C = 0.01, epsilon = 0.1), X_train_pca, y_train, cv = 5)\n",
    "y_pred_train_mean = y_pred_train.mean()\n",
    "print(\"average train score: \", y_pred_train_mean)\n",
    "\n",
    "y_pred_test = cross_val_score(LinearSVR(C = 0.01, epsilon = 0.1),X_test_pca, y_test, cv = 5)\n",
    "y_pred_test_mean = y_pred_test.mean()\n",
    "print(\"average test score: \", y_pred_test_mean)"
   ]
  },
  {
   "cell_type": "code",
   "execution_count": 112,
   "metadata": {},
   "outputs": [
    {
     "name": "stdout",
     "output_type": "stream",
     "text": [
      "0.5440668589795767\n",
      "0.4874092297301194\n"
     ]
    }
   ],
   "source": [
    "lsvr = LinearSVR(C = 0.01, epsilon = 0.1)\n",
    "lsvr.fit(X_train_pca, y_train)\n",
    "print(lsvr.score(X_train_pca, y_train))\n",
    "print(lsvr.score(X_test_pca, y_test))"
   ]
  },
  {
   "cell_type": "code",
   "execution_count": 113,
   "metadata": {},
   "outputs": [
    {
     "name": "stdout",
     "output_type": "stream",
     "text": [
      "MSE: 0.273828\n",
      "RMSE: 0.523286\n"
     ]
    }
   ],
   "source": [
    "from sklearn.metrics import mean_squared_error\n",
    "from math import sqrt\n",
    "mse = mean_squared_error(y_test, lsvr.predict(X_test_pca))\n",
    "rmse = sqrt(mse)\n",
    "print('MSE: %f' % mse)\n",
    "print('RMSE: %f' % rmse)"
   ]
  },
  {
   "cell_type": "markdown",
   "metadata": {},
   "source": [
    "# PCA - SVR with RBF Kernel"
   ]
  },
  {
   "cell_type": "code",
   "execution_count": 114,
   "metadata": {
    "scrolled": true
   },
   "outputs": [
    {
     "name": "stdout",
     "output_type": "stream",
     "text": [
      "{'C': [0.001, 0.01, 0.1, 1, 10, 100], 'epsilon': [0.001, 0.01, 0.1, 1, 10]}\n",
      "Best parameters: {'C': 1, 'epsilon': 0.1}\n",
      "Best cross-validation score: -0.25\n"
     ]
    }
   ],
   "source": [
    "from  sklearn.svm import SVR\n",
    "param_grid_rbf = {'C':[0.001, 0.01, 0.1, 1, 10, 100],\n",
    "             'epsilon': [0.001, 0.01, 0.1, 1, 10]}\n",
    "print(param_grid_rbf)\n",
    "svr_rbf = SVR(kernel = 'rbf')\n",
    "grid_search_rbf = GridSearchCV(svr_rbf, param_grid_rbf, cv=5, scoring = 'neg_mean_squared_error')\n",
    "grid_search_rbf.fit(X_train_pca, y_train)\n",
    "print(\"Best parameters: {}\".format(grid_search_rbf.best_params_))\n",
    "print(\"Best cross-validation score: {:.2f}\".format(grid_search_rbf.best_score_))"
   ]
  },
  {
   "cell_type": "code",
   "execution_count": 115,
   "metadata": {
    "scrolled": false
   },
   "outputs": [
    {
     "data": {
      "text/plain": [
       "0.25105767904713777"
      ]
     },
     "execution_count": 115,
     "metadata": {},
     "output_type": "execute_result"
    }
   ],
   "source": [
    "rbf_svr_score = cross_val_score(SVR(kernel = 'rbf', C = 1, epsilon = 0.1),X_train_pca, y_train, cv = 5,scoring = 'neg_mean_squared_error' )\n",
    "rbf_svr_score_n = -rbf_svr_score\n",
    "rbf_svr_score_n.mean()"
   ]
  },
  {
   "cell_type": "code",
   "execution_count": 116,
   "metadata": {
    "scrolled": true
   },
   "outputs": [
    {
     "name": "stdout",
     "output_type": "stream",
     "text": [
      "average train score:  0.5295179440787552\n",
      "average test score:  0.48906086929168574\n"
     ]
    }
   ],
   "source": [
    "y_pred_train = cross_val_score(SVR(kernel = 'rbf', C = 1, epsilon = 0.1), X_train_pca, y_train, cv = 5)\n",
    "y_pred_train_mean = y_pred_train.mean()\n",
    "print(\"average train score: \", y_pred_train_mean)\n",
    "\n",
    "y_pred_test = cross_val_score(SVR(kernel = 'rbf', C = 1, epsilon = 0.1),X_test_pca, y_test, cv = 5)\n",
    "y_pred_test_mean = y_pred_test.mean()\n",
    "print(\"average test score: \", y_pred_test_mean)"
   ]
  },
  {
   "cell_type": "code",
   "execution_count": 117,
   "metadata": {},
   "outputs": [
    {
     "name": "stdout",
     "output_type": "stream",
     "text": [
      "0.6727334653096604\n",
      "0.532239458232368\n"
     ]
    }
   ],
   "source": [
    "svr_rbf = SVR(kernel = 'rbf', C = 1, epsilon = 0.1)\n",
    "svr_rbf.fit(X_train_pca, y_train)\n",
    "print(svr_rbf.score(X_train_pca, y_train))\n",
    "print(svr_rbf.score(X_test_pca, y_test))"
   ]
  },
  {
   "cell_type": "code",
   "execution_count": 118,
   "metadata": {},
   "outputs": [
    {
     "name": "stdout",
     "output_type": "stream",
     "text": [
      "MSE: 0.249880\n",
      "RMSE: 0.499880\n"
     ]
    }
   ],
   "source": [
    "from sklearn.metrics import mean_squared_error\n",
    "from math import sqrt\n",
    "mse = mean_squared_error(y_test, svr_rbf.predict(X_test_pca))\n",
    "rmse = sqrt(mse)\n",
    "print('MSE: %f' % mse)\n",
    "print('RMSE: %f' % rmse)"
   ]
  },
  {
   "cell_type": "markdown",
   "metadata": {},
   "source": [
    "# PCA - SVR with Poly Kernel"
   ]
  },
  {
   "cell_type": "code",
   "execution_count": 119,
   "metadata": {
    "scrolled": true
   },
   "outputs": [
    {
     "name": "stdout",
     "output_type": "stream",
     "text": [
      "{'C': [0.001, 0.01, 0.1, 1, 10, 100], 'epsilon': [0.001, 0.01, 0.1, 1.5]}\n",
      "Best parameters: {'C': 0.1, 'epsilon': 0.1}\n",
      "Best cross-validation score: -0.27\n"
     ]
    }
   ],
   "source": [
    "param_grid_poly = {'C':[0.001, 0.01, 0.1, 1, 10, 100],\n",
    "             'epsilon': [0.001, 0.01, 0.1, 1.5]}\n",
    "print(param_grid_poly)\n",
    "svr_poly = SVR(kernel = 'poly')\n",
    "grid_search_poly = GridSearchCV(svr_poly, param_grid_poly, cv=5, scoring = 'neg_mean_squared_error')\n",
    "grid_search_poly.fit(X_train_pca, y_train)\n",
    "print(\"Best parameters: {}\".format(grid_search_poly.best_params_))\n",
    "print(\"Best cross-validation score: {:.2f}\".format(grid_search_poly.best_score_))"
   ]
  },
  {
   "cell_type": "code",
   "execution_count": 120,
   "metadata": {
    "scrolled": false
   },
   "outputs": [
    {
     "data": {
      "text/plain": [
       "0.2736214600108117"
      ]
     },
     "execution_count": 120,
     "metadata": {},
     "output_type": "execute_result"
    }
   ],
   "source": [
    "poly_svr_score = cross_val_score(SVR(kernel = 'poly', C = 0.1, epsilon = 0.1),X_train_pca, y_train, cv = 5,scoring = 'neg_mean_squared_error' )\n",
    "poly_svr_score_n = -poly_svr_score\n",
    "poly_svr_score_n.mean()"
   ]
  },
  {
   "cell_type": "code",
   "execution_count": 121,
   "metadata": {
    "scrolled": false
   },
   "outputs": [
    {
     "name": "stdout",
     "output_type": "stream",
     "text": [
      "average train score:  0.48762111601570657\n",
      "average test score:  0.3891908656790588\n"
     ]
    }
   ],
   "source": [
    "y_pred_train = cross_val_score(SVR(kernel = 'poly', C = 0.1, epsilon = 0.1), X_train_pca, y_train, cv = 5)\n",
    "y_pred_train_mean = y_pred_train.mean()\n",
    "print(\"average train score: \", y_pred_train_mean)\n",
    "\n",
    "y_pred_test = cross_val_score(SVR(kernel = 'poly', C = 0.1, epsilon = 0.1),X_test_pca, y_test, cv = 5)\n",
    "y_pred_test_mean = y_pred_test.mean()\n",
    "print(\"average test score: \", y_pred_test_mean)"
   ]
  },
  {
   "cell_type": "code",
   "execution_count": 122,
   "metadata": {
    "scrolled": true
   },
   "outputs": [
    {
     "name": "stdout",
     "output_type": "stream",
     "text": [
      "0.6078889859556276\n",
      "0.49312329008996403\n"
     ]
    }
   ],
   "source": [
    "svr_poly = SVR(kernel = 'poly', C = 0.1, epsilon = 0.1)\n",
    "svr_poly.fit(X_train_pca, y_train)\n",
    "print(svr_poly.score(X_train_pca, y_train))\n",
    "print(svr_poly.score(X_test_pca, y_test))"
   ]
  },
  {
   "cell_type": "code",
   "execution_count": 123,
   "metadata": {},
   "outputs": [
    {
     "name": "stdout",
     "output_type": "stream",
     "text": [
      "MSE: 0.270776\n",
      "RMSE: 0.520361\n"
     ]
    }
   ],
   "source": [
    "from sklearn.metrics import mean_squared_error\n",
    "from math import sqrt\n",
    "mse = mean_squared_error(y_test, svr_poly.predict(X_test_pca))\n",
    "rmse = sqrt(mse)\n",
    "print('MSE: %f' % mse)\n",
    "print('RMSE: %f' % rmse)"
   ]
  },
  {
   "cell_type": "markdown",
   "metadata": {},
   "source": [
    "# PCA - SVR with Linear Kernel"
   ]
  },
  {
   "cell_type": "code",
   "execution_count": 124,
   "metadata": {},
   "outputs": [
    {
     "name": "stdout",
     "output_type": "stream",
     "text": [
      "{'C': [0.001, 0.01, 0.1, 1, 10], 'epsilon': [0.01, 0.1, 1]}\n",
      "Best parameters: {'C': 0.001, 'epsilon': 0.01}\n",
      "Best cross-validation score: -0.24\n"
     ]
    }
   ],
   "source": [
    "param_grid_lin = {'C':[0.001, 0.01, 0.1, 1, 10],\n",
    "             'epsilon': [0.01, 0.1, 1]}\n",
    "print(param_grid_lin)\n",
    "svr_lin = SVR(kernel = 'linear')\n",
    "grid_search_lin = GridSearchCV(svr_lin, param_grid_lin, cv=5, scoring = 'neg_mean_squared_error')\n",
    "grid_search_lin.fit(X_train_pca, y_train)\n",
    "print(\"Best parameters: {}\".format(grid_search_lin.best_params_))\n",
    "print(\"Best cross-validation score: {:.2f}\".format(grid_search_lin.best_score_))"
   ]
  },
  {
   "cell_type": "code",
   "execution_count": 125,
   "metadata": {},
   "outputs": [
    {
     "data": {
      "text/plain": [
       "0.2427693212968122"
      ]
     },
     "execution_count": 125,
     "metadata": {},
     "output_type": "execute_result"
    }
   ],
   "source": [
    "lin_svr_score = cross_val_score(SVR(kernel = 'linear', C = 0.001, epsilon = 0.01),X_train_pca, y_train, cv = 5,scoring = 'neg_mean_squared_error' )\n",
    "lin_svr_score_n = -lin_svr_score\n",
    "lin_svr_score_n.mean()"
   ]
  },
  {
   "cell_type": "code",
   "execution_count": 126,
   "metadata": {},
   "outputs": [
    {
     "name": "stdout",
     "output_type": "stream",
     "text": [
      "average train score:  0.5452328334112408\n",
      "average test score:  0.46369698389898434\n"
     ]
    }
   ],
   "source": [
    "y_pred_train = cross_val_score(SVR(kernel = 'linear', C = 0.001, epsilon = 0.01), X_train_pca, y_train, cv = 5)\n",
    "y_pred_train_mean = y_pred_train.mean()\n",
    "print(\"average train score: \", y_pred_train_mean)\n",
    "\n",
    "y_pred_test = cross_val_score(SVR(kernel = 'linear', C = 0.001, epsilon = 0.01),X_test_pca, y_test, cv = 5)\n",
    "y_pred_test_mean = y_pred_test.mean()\n",
    "print(\"average test score: \", y_pred_test_mean)"
   ]
  },
  {
   "cell_type": "code",
   "execution_count": 127,
   "metadata": {},
   "outputs": [
    {
     "name": "stdout",
     "output_type": "stream",
     "text": [
      "0.5537361297148542\n",
      "0.5038445582655462\n"
     ]
    }
   ],
   "source": [
    "svr_linear = SVR(kernel = 'linear', C = 0.001, epsilon = 0.01)\n",
    "svr_linear.fit(X_train_pca, y_train)\n",
    "print(svr_linear.score(X_train_pca, y_train))\n",
    "print(svr_linear.score(X_test_pca, y_test))"
   ]
  },
  {
   "cell_type": "code",
   "execution_count": 128,
   "metadata": {},
   "outputs": [
    {
     "name": "stdout",
     "output_type": "stream",
     "text": [
      "MSE: 0.265049\n",
      "RMSE: 0.514829\n"
     ]
    }
   ],
   "source": [
    "from sklearn.metrics import mean_squared_error\n",
    "from math import sqrt\n",
    "mse = mean_squared_error(y_test, svr_linear.predict(X_test_pca))\n",
    "rmse = sqrt(mse)\n",
    "print('MSE: %f' % mse)\n",
    "print('RMSE: %f' % rmse)"
   ]
  },
  {
   "cell_type": "markdown",
   "metadata": {},
   "source": [
    "# Neural Network"
   ]
  },
  {
   "cell_type": "code",
   "execution_count": 129,
   "metadata": {
    "scrolled": true
   },
   "outputs": [],
   "source": [
    "from tensorflow.keras import Sequential\n",
    "from tensorflow.keras.layers import Dense\n",
    "\n",
    "np.random.seed(0)"
   ]
  },
  {
   "cell_type": "code",
   "execution_count": 130,
   "metadata": {},
   "outputs": [],
   "source": [
    "model = Sequential()"
   ]
  },
  {
   "cell_type": "code",
   "execution_count": 131,
   "metadata": {},
   "outputs": [],
   "source": [
    "X_train_deep = np.array(X_train)\n",
    "y_train_deep = np.array(y_train)"
   ]
  },
  {
   "cell_type": "code",
   "execution_count": 132,
   "metadata": {},
   "outputs": [
    {
     "data": {
      "text/plain": [
       "(4000, 38)"
      ]
     },
     "execution_count": 132,
     "metadata": {},
     "output_type": "execute_result"
    }
   ],
   "source": [
    "X_train.shape"
   ]
  },
  {
   "cell_type": "code",
   "execution_count": 133,
   "metadata": {},
   "outputs": [
    {
     "data": {
      "text/plain": [
       "(1000, 38)"
      ]
     },
     "execution_count": 133,
     "metadata": {},
     "output_type": "execute_result"
    }
   ],
   "source": [
    "X_test.shape"
   ]
  },
  {
   "cell_type": "code",
   "execution_count": 134,
   "metadata": {},
   "outputs": [],
   "source": [
    "X_train_dl = X_train_deep.reshape(4000, 38)\n",
    "X_test_dl = X_test.reshape(1000, 38)\n",
    "X_train_dl = X_train_deep.astype('float32')\n",
    "X_test_dl = X_test.astype('float32')"
   ]
  },
  {
   "cell_type": "code",
   "execution_count": 135,
   "metadata": {},
   "outputs": [
    {
     "name": "stdout",
     "output_type": "stream",
     "text": [
      "WARNING:tensorflow:From C:\\Users\\sanja\\Anaconda3\\lib\\site-packages\\tensorflow\\python\\ops\\init_ops.py:1251: calling VarianceScaling.__init__ (from tensorflow.python.ops.init_ops) with dtype is deprecated and will be removed in a future version.\n",
      "Instructions for updating:\n",
      "Call initializer instance with the dtype argument instead of passing it to the constructor\n"
     ]
    }
   ],
   "source": [
    "model.add(Dense(10, input_dim = 38, activation = 'sigmoid'))\n",
    "model.add(Dense(5, activation = 'relu'))\n",
    "model.add(Dense(1, activation = 'sigmoid'))"
   ]
  },
  {
   "cell_type": "code",
   "execution_count": 136,
   "metadata": {},
   "outputs": [],
   "source": [
    "model.compile(loss = 'mean_squared_error', optimizer = 'sgd', metrics = ['accuracy', 'mse'])"
   ]
  },
  {
   "cell_type": "code",
   "execution_count": 137,
   "metadata": {
    "scrolled": true
   },
   "outputs": [
    {
     "name": "stdout",
     "output_type": "stream",
     "text": [
      "Epoch 1/100\n",
      "4000/4000 [==============================] - 0s 68us/sample - loss: 15.0638 - acc: 0.0000e+00 - mean_squared_error: 15.0638\n",
      "Epoch 2/100\n",
      "4000/4000 [==============================] - 0s 41us/sample - loss: 14.8604 - acc: 0.0000e+00 - mean_squared_error: 14.8604\n",
      "Epoch 3/100\n",
      "4000/4000 [==============================] - 0s 42us/sample - loss: 14.8503 - acc: 0.0000e+00 - mean_squared_error: 14.8503\n",
      "Epoch 4/100\n",
      "4000/4000 [==============================] - 0s 41us/sample - loss: 14.8467 - acc: 0.0000e+00 - mean_squared_error: 14.8467\n",
      "Epoch 5/100\n",
      "4000/4000 [==============================] - 0s 56us/sample - loss: 14.8449 - acc: 0.0000e+00 - mean_squared_error: 14.8449\n",
      "Epoch 6/100\n",
      "4000/4000 [==============================] - 0s 43us/sample - loss: 14.8437 - acc: 0.0000e+00 - mean_squared_error: 14.8437\n",
      "Epoch 7/100\n",
      "4000/4000 [==============================] - 0s 40us/sample - loss: 14.8430 - acc: 0.0000e+00 - mean_squared_error: 14.8430\n",
      "Epoch 8/100\n",
      "4000/4000 [==============================] - 0s 40us/sample - loss: 14.8425 - acc: 0.0000e+00 - mean_squared_error: 14.8425\n",
      "Epoch 9/100\n",
      "4000/4000 [==============================] - 0s 41us/sample - loss: 14.8421 - acc: 0.0000e+00 - mean_squared_error: 14.8421\n",
      "Epoch 10/100\n",
      "4000/4000 [==============================] - 0s 42us/sample - loss: 14.8418 - acc: 0.0000e+00 - mean_squared_error: 14.8418\n",
      "Epoch 11/100\n",
      "4000/4000 [==============================] - 0s 52us/sample - loss: 14.8416 - acc: 0.0000e+00 - mean_squared_error: 14.8416\n",
      "Epoch 12/100\n",
      "4000/4000 [==============================] - 0s 40us/sample - loss: 14.8414 - acc: 0.0000e+00 - mean_squared_error: 14.8414\n",
      "Epoch 13/100\n",
      "4000/4000 [==============================] - 0s 38us/sample - loss: 14.8412 - acc: 0.0000e+00 - mean_squared_error: 14.8412\n",
      "Epoch 14/100\n",
      "4000/4000 [==============================] - 0s 38us/sample - loss: 14.8411 - acc: 0.0000e+00 - mean_squared_error: 14.8411\n",
      "Epoch 15/100\n",
      "4000/4000 [==============================] - 0s 37us/sample - loss: 14.8410 - acc: 0.0000e+00 - mean_squared_error: 14.8410\n",
      "Epoch 16/100\n",
      "4000/4000 [==============================] - 0s 37us/sample - loss: 14.8409 - acc: 0.0000e+00 - mean_squared_error: 14.8409\n",
      "Epoch 17/100\n",
      "4000/4000 [==============================] - 0s 44us/sample - loss: 14.8408 - acc: 0.0000e+00 - mean_squared_error: 14.8408\n",
      "Epoch 18/100\n",
      "4000/4000 [==============================] - 0s 40us/sample - loss: 14.8407 - acc: 0.0000e+00 - mean_squared_error: 14.8407\n",
      "Epoch 19/100\n",
      "4000/4000 [==============================] - 0s 37us/sample - loss: 14.8406 - acc: 0.0000e+00 - mean_squared_error: 14.8406\n",
      "Epoch 20/100\n",
      "4000/4000 [==============================] - 0s 37us/sample - loss: 14.8406 - acc: 0.0000e+00 - mean_squared_error: 14.8406\n",
      "Epoch 21/100\n",
      "4000/4000 [==============================] - 0s 37us/sample - loss: 14.8405 - acc: 0.0000e+00 - mean_squared_error: 14.8405\n",
      "Epoch 22/100\n",
      "4000/4000 [==============================] - ETA: 0s - loss: 14.7875 - acc: 0.0000e+00 - mean_squared_error: 14.78 - 0s 37us/sample - loss: 14.8405 - acc: 0.0000e+00 - mean_squared_error: 14.8405\n",
      "Epoch 23/100\n",
      "4000/4000 [==============================] - 0s 37us/sample - loss: 14.8405 - acc: 0.0000e+00 - mean_squared_error: 14.8404\n",
      "Epoch 24/100\n",
      "4000/4000 [==============================] - 0s 45us/sample - loss: 14.8404 - acc: 0.0000e+00 - mean_squared_error: 14.8404\n",
      "Epoch 25/100\n",
      "4000/4000 [==============================] - 0s 40us/sample - loss: 14.8404 - acc: 0.0000e+00 - mean_squared_error: 14.8404\n",
      "Epoch 26/100\n",
      "4000/4000 [==============================] - 0s 39us/sample - loss: 14.8403 - acc: 0.0000e+00 - mean_squared_error: 14.8403\n",
      "Epoch 27/100\n",
      "4000/4000 [==============================] - 0s 41us/sample - loss: 14.8403 - acc: 0.0000e+00 - mean_squared_error: 14.8403\n",
      "Epoch 28/100\n",
      "4000/4000 [==============================] - 0s 39us/sample - loss: 14.8403 - acc: 0.0000e+00 - mean_squared_error: 14.8403\n",
      "Epoch 29/100\n",
      "4000/4000 [==============================] - 0s 39us/sample - loss: 14.8403 - acc: 0.0000e+00 - mean_squared_error: 14.8403\n",
      "Epoch 30/100\n",
      "4000/4000 [==============================] - 0s 41us/sample - loss: 14.8402 - acc: 0.0000e+00 - mean_squared_error: 14.8402\n",
      "Epoch 31/100\n",
      "4000/4000 [==============================] - 0s 45us/sample - loss: 14.8402 - acc: 0.0000e+00 - mean_squared_error: 14.8402\n",
      "Epoch 32/100\n",
      "4000/4000 [==============================] - 0s 42us/sample - loss: 14.8402 - acc: 0.0000e+00 - mean_squared_error: 14.8402\n",
      "Epoch 33/100\n",
      "4000/4000 [==============================] - 0s 43us/sample - loss: 14.8402 - acc: 0.0000e+00 - mean_squared_error: 14.8402\n",
      "Epoch 34/100\n",
      "4000/4000 [==============================] - 0s 39us/sample - loss: 14.8402 - acc: 0.0000e+00 - mean_squared_error: 14.8402\n",
      "Epoch 35/100\n",
      "4000/4000 [==============================] - 0s 40us/sample - loss: 14.8401 - acc: 0.0000e+00 - mean_squared_error: 14.8401\n",
      "Epoch 36/100\n",
      "4000/4000 [==============================] - 0s 41us/sample - loss: 14.8401 - acc: 0.0000e+00 - mean_squared_error: 14.8401\n",
      "Epoch 37/100\n",
      "4000/4000 [==============================] - 0s 48us/sample - loss: 14.8401 - acc: 0.0000e+00 - mean_squared_error: 14.8401\n",
      "Epoch 38/100\n",
      "4000/4000 [==============================] - 0s 40us/sample - loss: 14.8401 - acc: 0.0000e+00 - mean_squared_error: 14.8401\n",
      "Epoch 39/100\n",
      "4000/4000 [==============================] - 0s 39us/sample - loss: 14.8401 - acc: 0.0000e+00 - mean_squared_error: 14.8401\n",
      "Epoch 40/100\n",
      "4000/4000 [==============================] - 0s 38us/sample - loss: 14.8401 - acc: 0.0000e+00 - mean_squared_error: 14.8401\n",
      "Epoch 41/100\n",
      "4000/4000 [==============================] - 0s 37us/sample - loss: 14.8401 - acc: 0.0000e+00 - mean_squared_error: 14.8401\n",
      "Epoch 42/100\n",
      "4000/4000 [==============================] - 0s 37us/sample - loss: 14.8401 - acc: 0.0000e+00 - mean_squared_error: 14.8400\n",
      "Epoch 43/100\n",
      "4000/4000 [==============================] - 0s 43us/sample - loss: 14.8400 - acc: 0.0000e+00 - mean_squared_error: 14.8400\n",
      "Epoch 44/100\n",
      "4000/4000 [==============================] - 0s 39us/sample - loss: 14.8400 - acc: 0.0000e+00 - mean_squared_error: 14.8400\n",
      "Epoch 45/100\n",
      "4000/4000 [==============================] - 0s 39us/sample - loss: 14.8400 - acc: 0.0000e+00 - mean_squared_error: 14.8400\n",
      "Epoch 46/100\n",
      "4000/4000 [==============================] - 0s 38us/sample - loss: 14.8400 - acc: 0.0000e+00 - mean_squared_error: 14.8400\n",
      "Epoch 47/100\n",
      "4000/4000 [==============================] - 0s 38us/sample - loss: 14.8400 - acc: 0.0000e+00 - mean_squared_error: 14.8400\n",
      "Epoch 48/100\n",
      "4000/4000 [==============================] - 0s 37us/sample - loss: 14.8400 - acc: 0.0000e+00 - mean_squared_error: 14.8400\n",
      "Epoch 49/100\n",
      "4000/4000 [==============================] - 0s 39us/sample - loss: 14.8400 - acc: 0.0000e+00 - mean_squared_error: 14.8400\n",
      "Epoch 50/100\n",
      "4000/4000 [==============================] - 0s 43us/sample - loss: 14.8400 - acc: 0.0000e+00 - mean_squared_error: 14.8400\n",
      "Epoch 51/100\n",
      "4000/4000 [==============================] - 0s 37us/sample - loss: 14.8400 - acc: 0.0000e+00 - mean_squared_error: 14.8400\n",
      "Epoch 52/100\n",
      "4000/4000 [==============================] - 0s 41us/sample - loss: 14.8400 - acc: 0.0000e+00 - mean_squared_error: 14.8400\n",
      "Epoch 53/100\n",
      "4000/4000 [==============================] - 0s 39us/sample - loss: 14.8400 - acc: 0.0000e+00 - mean_squared_error: 14.8400\n",
      "Epoch 54/100\n",
      "4000/4000 [==============================] - 0s 41us/sample - loss: 14.8400 - acc: 0.0000e+00 - mean_squared_error: 14.8400\n",
      "Epoch 55/100\n",
      "4000/4000 [==============================] - 0s 39us/sample - loss: 14.8399 - acc: 0.0000e+00 - mean_squared_error: 14.8399\n",
      "Epoch 56/100\n",
      "4000/4000 [==============================] - 0s 42us/sample - loss: 14.8399 - acc: 0.0000e+00 - mean_squared_error: 14.8399\n",
      "Epoch 57/100\n",
      "4000/4000 [==============================] - 0s 48us/sample - loss: 14.8399 - acc: 0.0000e+00 - mean_squared_error: 14.8399\n",
      "Epoch 58/100\n",
      "4000/4000 [==============================] - 0s 38us/sample - loss: 14.8399 - acc: 0.0000e+00 - mean_squared_error: 14.8399\n",
      "Epoch 59/100\n",
      "4000/4000 [==============================] - 0s 38us/sample - loss: 14.8399 - acc: 0.0000e+00 - mean_squared_error: 14.8399\n",
      "Epoch 60/100\n"
     ]
    },
    {
     "name": "stdout",
     "output_type": "stream",
     "text": [
      "4000/4000 [==============================] - 0s 42us/sample - loss: 14.8399 - acc: 0.0000e+00 - mean_squared_error: 14.8399\n",
      "Epoch 61/100\n",
      "4000/4000 [==============================] - 0s 41us/sample - loss: 14.8399 - acc: 0.0000e+00 - mean_squared_error: 14.8399\n",
      "Epoch 62/100\n",
      "4000/4000 [==============================] - 0s 41us/sample - loss: 14.8399 - acc: 0.0000e+00 - mean_squared_error: 14.8399\n",
      "Epoch 63/100\n",
      "4000/4000 [==============================] - 0s 49us/sample - loss: 14.8399 - acc: 0.0000e+00 - mean_squared_error: 14.8399\n",
      "Epoch 64/100\n",
      "4000/4000 [==============================] - 0s 39us/sample - loss: 14.8399 - acc: 0.0000e+00 - mean_squared_error: 14.8399\n",
      "Epoch 65/100\n",
      "4000/4000 [==============================] - 0s 37us/sample - loss: 14.8399 - acc: 0.0000e+00 - mean_squared_error: 14.8399\n",
      "Epoch 66/100\n",
      "4000/4000 [==============================] - 0s 37us/sample - loss: 14.8399 - acc: 0.0000e+00 - mean_squared_error: 14.8399\n",
      "Epoch 67/100\n",
      "4000/4000 [==============================] - 0s 37us/sample - loss: 14.8399 - acc: 0.0000e+00 - mean_squared_error: 14.8399\n",
      "Epoch 68/100\n",
      "4000/4000 [==============================] - 0s 42us/sample - loss: 14.8399 - acc: 0.0000e+00 - mean_squared_error: 14.8399\n",
      "Epoch 69/100\n",
      "4000/4000 [==============================] - 0s 43us/sample - loss: 14.8399 - acc: 0.0000e+00 - mean_squared_error: 14.8399\n",
      "Epoch 70/100\n",
      "4000/4000 [==============================] - 0s 43us/sample - loss: 14.8399 - acc: 0.0000e+00 - mean_squared_error: 14.8399\n",
      "Epoch 71/100\n",
      "4000/4000 [==============================] - 0s 38us/sample - loss: 14.8399 - acc: 0.0000e+00 - mean_squared_error: 14.8399\n",
      "Epoch 72/100\n",
      "4000/4000 [==============================] - 0s 37us/sample - loss: 14.8399 - acc: 0.0000e+00 - mean_squared_error: 14.8399s - loss: 14.8666 - acc: 0.0000e+00 - mean_squared_error: 14.86\n",
      "Epoch 73/100\n",
      "4000/4000 [==============================] - 0s 42us/sample - loss: 14.8399 - acc: 0.0000e+00 - mean_squared_error: 14.8399\n",
      "Epoch 74/100\n",
      "4000/4000 [==============================] - 0s 38us/sample - loss: 14.8399 - acc: 0.0000e+00 - mean_squared_error: 14.8399\n",
      "Epoch 75/100\n",
      "4000/4000 [==============================] - 0s 38us/sample - loss: 14.8399 - acc: 0.0000e+00 - mean_squared_error: 14.8399\n",
      "Epoch 76/100\n",
      "4000/4000 [==============================] - 0s 44us/sample - loss: 14.8399 - acc: 0.0000e+00 - mean_squared_error: 14.8399\n",
      "Epoch 77/100\n",
      "4000/4000 [==============================] - 0s 39us/sample - loss: 14.8399 - acc: 0.0000e+00 - mean_squared_error: 14.8399\n",
      "Epoch 78/100\n",
      "4000/4000 [==============================] - 0s 37us/sample - loss: 14.8399 - acc: 0.0000e+00 - mean_squared_error: 14.8398\n",
      "Epoch 79/100\n",
      "4000/4000 [==============================] - 0s 44us/sample - loss: 14.8398 - acc: 0.0000e+00 - mean_squared_error: 14.8399\n",
      "Epoch 80/100\n",
      "4000/4000 [==============================] - 0s 38us/sample - loss: 14.8398 - acc: 0.0000e+00 - mean_squared_error: 14.8398\n",
      "Epoch 81/100\n",
      "4000/4000 [==============================] - 0s 36us/sample - loss: 14.8398 - acc: 0.0000e+00 - mean_squared_error: 14.8398\n",
      "Epoch 82/100\n",
      "4000/4000 [==============================] - 0s 42us/sample - loss: 14.8398 - acc: 0.0000e+00 - mean_squared_error: 14.8398\n",
      "Epoch 83/100\n",
      "4000/4000 [==============================] - 0s 39us/sample - loss: 14.8398 - acc: 0.0000e+00 - mean_squared_error: 14.8398\n",
      "Epoch 84/100\n",
      "4000/4000 [==============================] - 0s 38us/sample - loss: 14.8398 - acc: 0.0000e+00 - mean_squared_error: 14.8398\n",
      "Epoch 85/100\n",
      "4000/4000 [==============================] - 0s 38us/sample - loss: 14.8398 - acc: 0.0000e+00 - mean_squared_error: 14.8398\n",
      "Epoch 86/100\n",
      "4000/4000 [==============================] - ETA: 0s - loss: 14.8117 - acc: 0.0000e+00 - mean_squared_error: 14.81 - 0s 37us/sample - loss: 14.8398 - acc: 0.0000e+00 - mean_squared_error: 14.8398\n",
      "Epoch 87/100\n",
      "4000/4000 [==============================] - 0s 37us/sample - loss: 14.8398 - acc: 0.0000e+00 - mean_squared_error: 14.8398\n",
      "Epoch 88/100\n",
      "4000/4000 [==============================] - 0s 37us/sample - loss: 14.8398 - acc: 0.0000e+00 - mean_squared_error: 14.8398\n",
      "Epoch 89/100\n",
      "4000/4000 [==============================] - 0s 41us/sample - loss: 14.8398 - acc: 0.0000e+00 - mean_squared_error: 14.8398\n",
      "Epoch 90/100\n",
      "4000/4000 [==============================] - 0s 39us/sample - loss: 14.8398 - acc: 0.0000e+00 - mean_squared_error: 14.8398\n",
      "Epoch 91/100\n",
      "4000/4000 [==============================] - 0s 37us/sample - loss: 14.8398 - acc: 0.0000e+00 - mean_squared_error: 14.8398\n",
      "Epoch 92/100\n",
      "4000/4000 [==============================] - 0s 37us/sample - loss: 14.8398 - acc: 0.0000e+00 - mean_squared_error: 14.8398\n",
      "Epoch 93/100\n",
      "4000/4000 [==============================] - 0s 37us/sample - loss: 14.8398 - acc: 0.0000e+00 - mean_squared_error: 14.8398\n",
      "Epoch 94/100\n",
      "4000/4000 [==============================] - 0s 37us/sample - loss: 14.8398 - acc: 0.0000e+00 - mean_squared_error: 14.8398\n",
      "Epoch 95/100\n",
      "4000/4000 [==============================] - 0s 36us/sample - loss: 14.8398 - acc: 0.0000e+00 - mean_squared_error: 14.8398\n",
      "Epoch 96/100\n",
      "4000/4000 [==============================] - 0s 42us/sample - loss: 14.8398 - acc: 0.0000e+00 - mean_squared_error: 14.8398\n",
      "Epoch 97/100\n",
      "4000/4000 [==============================] - 0s 37us/sample - loss: 14.8398 - acc: 0.0000e+00 - mean_squared_error: 14.8398\n",
      "Epoch 98/100\n",
      "4000/4000 [==============================] - 0s 36us/sample - loss: 14.8398 - acc: 0.0000e+00 - mean_squared_error: 14.8398\n",
      "Epoch 99/100\n",
      "4000/4000 [==============================] - 0s 36us/sample - loss: 14.8398 - acc: 0.0000e+00 - mean_squared_error: 14.8398\n",
      "Epoch 100/100\n",
      "4000/4000 [==============================] - 0s 37us/sample - loss: 14.8398 - acc: 0.0000e+00 - mean_squared_error: 14.8398\n"
     ]
    },
    {
     "data": {
      "text/plain": [
       "<tensorflow.python.keras.callbacks.History at 0x27fecdc1da0>"
      ]
     },
     "execution_count": 137,
     "metadata": {},
     "output_type": "execute_result"
    }
   ],
   "source": [
    "model.fit(X_train_dl, y_train_deep, epochs = 100, batch_size= 20)"
   ]
  },
  {
   "cell_type": "code",
   "execution_count": 138,
   "metadata": {},
   "outputs": [
    {
     "name": "stdout",
     "output_type": "stream",
     "text": [
      "4000/4000 [==============================] - 0s 24us/sample - loss: 14.8398 - acc: 0.0000e+00 - mean_squared_error: 14.8398\n"
     ]
    },
    {
     "data": {
      "text/plain": [
       "[14.839803497314453, 0.0, 14.8398]"
      ]
     },
     "execution_count": 138,
     "metadata": {},
     "output_type": "execute_result"
    }
   ],
   "source": [
    "model.evaluate(X_train_dl, y_train_deep)"
   ]
  },
  {
   "cell_type": "code",
   "execution_count": 139,
   "metadata": {},
   "outputs": [
    {
     "name": "stdout",
     "output_type": "stream",
     "text": [
      "1000/1000 [==============================] - 0s 21us/sample - loss: 14.8524 - acc: 0.0000e+00 - mean_squared_error: 14.8524\n"
     ]
    },
    {
     "data": {
      "text/plain": [
       "[14.852378509521484, 0.0, 14.852377]"
      ]
     },
     "execution_count": 139,
     "metadata": {},
     "output_type": "execute_result"
    }
   ],
   "source": [
    "model.evaluate(X_test_dl, y_test)"
   ]
  },
  {
   "cell_type": "code",
   "execution_count": 140,
   "metadata": {},
   "outputs": [
    {
     "name": "stdout",
     "output_type": "stream",
     "text": [
      "MSE: 14.852378\n",
      "RMSE: 3.853878\n"
     ]
    }
   ],
   "source": [
    "from sklearn.metrics import mean_squared_error\n",
    "from math import sqrt\n",
    "mse = mean_squared_error(y_test, model.predict(X_test_dl))\n",
    "rmse = sqrt(mse)\n",
    "print('MSE: %f' % mse)\n",
    "print('RMSE: %f' % rmse)"
   ]
  },
  {
   "cell_type": "markdown",
   "metadata": {},
   "source": [
    "# Evaluation Table - Ensemble Models and neural Network\n",
    "\n",
    "| Models | Average Train Score | Average Test Score | Best_cross_val_score (Average MSE) | MSE | RMSE|Hyperparameters |\n",
    "|---|---|---|---|---|---|---|\n",
    "| Bagging with Lasso | 0.5726 | 0.5258 | -0.23 | 0.243910 | 0.493872 | 'max_samples': 450, 'n_estimators': 100 |\n",
    "| Bagging with Ridge | 0.56462 | 0.5217 | -0.23 | 0.251283 | 0.501282 | 'max_samples': 450, 'n_estimators': 100 |\n",
    "| Pasting with Ridge | 0.5646 | 0.52257 | -0.23 | 0.250662 | 0.500661 | 'max_samples': 450, 'n_estimators': 400 |\n",
    "| Pasting with Lasso | 0.57272 | 0.52648 | -0.23 | 0.242664 | 0.492609 | 'max_samples': 450, 'n_estimators': 200 | \n",
    "| Ada Boosting with Lasso | 0.5509| 0.4727 | -0.24 | 0.244716 | 0.494688 | 'learning_rate': 0.1, 'n_estimators': 400 | \n",
    "| Ada Boosting with Ridge |0.5517  | 0.4824 | -0.24 | 0.244156 | 0.494121 | 'learning_rate': 0.5, 'n_estimators': 100 |  \n",
    "| Gradient Boosting | 0.6004  | 0.5411  | -0.21 | 0.223017 | 0.472246 | 'learning_rate': 0.2, 'max_depth': 2, 'n_estimators': 100 |\n",
    "| Neural Network |  |  |  | 14.852324 | 3.853871 |  |"
   ]
  }
 ],
 "metadata": {
  "kernelspec": {
   "display_name": "Python 3",
   "language": "python",
   "name": "python3"
  },
  "language_info": {
   "codemirror_mode": {
    "name": "ipython",
    "version": 3
   },
   "file_extension": ".py",
   "mimetype": "text/x-python",
   "name": "python",
   "nbconvert_exporter": "python",
   "pygments_lexer": "ipython3",
   "version": "3.7.3"
  }
 },
 "nbformat": 4,
 "nbformat_minor": 2
}
